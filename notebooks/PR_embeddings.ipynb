{
 "cells": [
  {
   "cell_type": "code",
   "execution_count": 1,
   "outputs": [],
   "source": [
    "import pandas as pd\n",
    "%load_ext autoreload\n",
    "%autoreload 2"
   ],
   "metadata": {
    "collapsed": false,
    "ExecuteTime": {
     "end_time": "2024-03-31T09:56:31.759515Z",
     "start_time": "2024-03-31T09:56:30.143613100Z"
    }
   },
   "id": "f7d160f8afcd6675"
  },
  {
   "cell_type": "code",
   "execution_count": 2,
   "outputs": [],
   "source": [
    "import pickle\n",
    "from embedding import *\n",
    "import warnings\n",
    "warnings.filterwarnings('ignore')"
   ],
   "metadata": {
    "collapsed": false,
    "ExecuteTime": {
     "end_time": "2024-03-31T09:56:45.861522100Z",
     "start_time": "2024-03-31T09:56:31.762514700Z"
    }
   },
   "id": "initial_id"
  },
  {
   "cell_type": "code",
   "execution_count": 136,
   "outputs": [],
   "source": [
    "with open('../Data/random_samples_bon_spoof.pkl', 'rb') as f:\n",
    "    random_samples_bon_spoof = pickle.load(f)\n",
    "samples_bon=random_samples_bon_spoof['bonafide']\n",
    "samples_spoof=random_samples_bon_spoof['spoof']\n",
    "label_bon=[0]*len(samples_bon)\n",
    "label_spoof=[1]*len(samples_spoof)\n",
    "samples=np.concatenate((samples_bon,samples_spoof),axis=0)\n",
    "labels=np.concatenate((label_bon,label_spoof),axis=0)\n",
    "indices = np.random.permutation(len(labels))\n",
    "labels=labels[indices]\n",
    "samples=samples[indices]"
   ],
   "metadata": {
    "collapsed": false,
    "ExecuteTime": {
     "end_time": "2024-03-30T23:39:57.905001500Z",
     "start_time": "2024-03-30T23:39:56.909496900Z"
    }
   },
   "id": "1d30450bccace54a"
  },
  {
   "cell_type": "code",
   "execution_count": 137,
   "outputs": [
    {
     "name": "stderr",
     "output_type": "stream",
     "text": [
      "Preprocessing Audio Files: 100%|████████████████████| 1950/1950 [03:04<00:00, 10.57samples/s]\n"
     ]
    }
   ],
   "source": [
    "mfccs=extract_mfcc_embeddings(samples,with_compute=False)"
   ],
   "metadata": {
    "collapsed": false,
    "ExecuteTime": {
     "end_time": "2024-03-30T23:43:03.119670400Z",
     "start_time": "2024-03-30T23:39:57.915134500Z"
    }
   },
   "id": "6a71d5fc4026d8a4"
  },
  {
   "cell_type": "code",
   "execution_count": 138,
   "outputs": [
    {
     "name": "stderr",
     "output_type": "stream",
     "text": [
      "Preprocessing Audio Files: 100%|████████████████████| 1950/1950 [03:28<00:00,  9.34samples/s]\n"
     ]
    }
   ],
   "source": [
    "mfccs_mean_std_avgdiff =extract_mfcc_embeddings(samples,with_compute=True,mean=True,variance=True,avg_diff=True)"
   ],
   "metadata": {
    "collapsed": false,
    "ExecuteTime": {
     "end_time": "2024-03-30T23:46:34.238228900Z",
     "start_time": "2024-03-30T23:43:03.089532600Z"
    }
   },
   "id": "41ed1c03f1c17873"
  },
  {
   "cell_type": "code",
   "execution_count": 139,
   "outputs": [],
   "source": [
    "\n",
    "# cqccs=extract_cqcc_embeddings(samples,with_compute=False)"
   ],
   "metadata": {
    "collapsed": false,
    "ExecuteTime": {
     "end_time": "2024-03-30T23:46:36.138630700Z",
     "start_time": "2024-03-30T23:46:34.197087700Z"
    }
   },
   "id": "84f3a3d0826afe76"
  },
  {
   "cell_type": "code",
   "execution_count": 140,
   "outputs": [],
   "source": [
    "# cqcc_mean_std_avgdiff=extract_cqcc_embeddings(samples,with_compute=True,mean=True,variance=True,avg_diff=True)"
   ],
   "metadata": {
    "collapsed": false,
    "ExecuteTime": {
     "end_time": "2024-03-30T23:46:36.753625100Z",
     "start_time": "2024-03-30T23:46:36.143717400Z"
    }
   },
   "id": "c14fa18e5b49531d"
  },
  {
   "cell_type": "code",
   "execution_count": 141,
   "outputs": [],
   "source": [
    "# cqcc_mean_std_avgdiff.shape"
   ],
   "metadata": {
    "collapsed": false,
    "ExecuteTime": {
     "end_time": "2024-03-30T23:46:37.377054300Z",
     "start_time": "2024-03-30T23:46:36.761708400Z"
    }
   },
   "id": "2137b1e2e66fd895"
  },
  {
   "cell_type": "code",
   "execution_count": 142,
   "outputs": [
    {
     "name": "stderr",
     "output_type": "stream",
     "text": [
      "Preprocessing Audio: 100%|████████████████████| 1950/1950 [04:41<00:00,  6.94samples/s]\n"
     ]
    }
   ],
   "source": [
    "cqts=extract_cqt_embeddings(samples,with_compute=False)"
   ],
   "metadata": {
    "collapsed": false,
    "ExecuteTime": {
     "end_time": "2024-03-30T23:51:19.246816Z",
     "start_time": "2024-03-30T23:46:37.379053300Z"
    }
   },
   "id": "2699b4faa86600de"
  },
  {
   "cell_type": "code",
   "execution_count": 143,
   "outputs": [
    {
     "name": "stderr",
     "output_type": "stream",
     "text": [
      "Preprocessing Audio: 100%|████████████████████| 1950/1950 [03:52<00:00,  8.38samples/s]\n"
     ]
    }
   ],
   "source": [
    "cqts_mean_std_avgdiff=extract_cqt_embeddings(samples,with_compute=True,mean=True,variance=True,avg_diff=True)"
   ],
   "metadata": {
    "collapsed": false,
    "ExecuteTime": {
     "end_time": "2024-03-30T23:55:13.189100300Z",
     "start_time": "2024-03-30T23:51:19.291599300Z"
    }
   },
   "id": "770f902c43676376"
  },
  {
   "cell_type": "code",
   "execution_count": 144,
   "outputs": [
    {
     "name": "stderr",
     "output_type": "stream",
     "text": [
      "Preprocessing Audio: 100%|████████████████████| 1950/1950 [01:35<00:00, 20.40samples/s]\n"
     ]
    }
   ],
   "source": [
    "lfccs=extract_lfcc_embeddings(samples,with_compute=False)"
   ],
   "metadata": {
    "collapsed": false,
    "ExecuteTime": {
     "end_time": "2024-03-30T23:56:49.493582Z",
     "start_time": "2024-03-30T23:55:13.192107500Z"
    }
   },
   "id": "f346ec40dae4784d"
  },
  {
   "cell_type": "code",
   "execution_count": 145,
   "outputs": [
    {
     "name": "stderr",
     "output_type": "stream",
     "text": [
      "Preprocessing Audio: 100%|████████████████████| 1950/1950 [01:30<00:00, 21.56samples/s]\n"
     ]
    }
   ],
   "source": [
    "lfccs_mean_std_avgdiff=extract_lfcc_embeddings(samples,with_compute=True,mean=True,variance=True,avg_diff=True)"
   ],
   "metadata": {
    "collapsed": false,
    "ExecuteTime": {
     "end_time": "2024-03-30T23:58:20.450826700Z",
     "start_time": "2024-03-30T23:56:49.471194300Z"
    }
   },
   "id": "185e628b5c87af0d"
  },
  {
   "cell_type": "code",
   "execution_count": 146,
   "outputs": [],
   "source": [
    "# cqcc_mfccs_fusion=np.concatenate((cqccs,mfccs),axis=1)\n",
    "# cqcc_mfccs_fusion_depricated=np.concatenate((cqcc_mean_std_avgdiff,mfccs_mean_std_avgdiff),axis=1)"
   ],
   "metadata": {
    "collapsed": false,
    "ExecuteTime": {
     "end_time": "2024-03-30T23:58:21.011985500Z",
     "start_time": "2024-03-30T23:58:20.398826500Z"
    }
   },
   "id": "530f31334b5892e9"
  },
  {
   "cell_type": "code",
   "execution_count": 147,
   "outputs": [],
   "source": [
    "cqt_mfccs_fusion=np.concatenate((cqts,mfccs),axis=1)\n",
    "cqt_mfccs_fusion_depricated=np.concatenate((cqts_mean_std_avgdiff,mfccs_mean_std_avgdiff),axis=1)"
   ],
   "metadata": {
    "collapsed": false,
    "ExecuteTime": {
     "end_time": "2024-03-30T23:58:22.750412700Z",
     "start_time": "2024-03-30T23:58:21.009989100Z"
    }
   },
   "id": "af2f3c0b20a7b111"
  },
  {
   "cell_type": "code",
   "execution_count": 148,
   "outputs": [],
   "source": [
    "lfccs_mfccs_fusion=np.concatenate((lfccs,mfccs),axis=1)\n",
    "lfccs_mfccs_fusion_depricated=np.concatenate((lfccs_mean_std_avgdiff,mfccs_mean_std_avgdiff),axis=1)"
   ],
   "metadata": {
    "collapsed": false,
    "ExecuteTime": {
     "end_time": "2024-03-30T23:58:25.433848200Z",
     "start_time": "2024-03-30T23:58:22.734841600Z"
    }
   },
   "id": "3b920dc05a2a9e7a"
  },
  {
   "cell_type": "code",
   "execution_count": 149,
   "outputs": [],
   "source": [
    "# lfccs_cqccs_fusion=np.concatenate((lfccs,cqccs),axis=1)\n",
    "# lfccs_cqccq_fusion_depricated=np.concatenate((lfccs_mean_std_avgdiff,cqcc_mean_std_avgdiff),axis=1)"
   ],
   "metadata": {
    "collapsed": false,
    "ExecuteTime": {
     "end_time": "2024-03-30T23:58:26.287877300Z",
     "start_time": "2024-03-30T23:58:24.949444600Z"
    }
   },
   "id": "902873859d0c2bd2"
  },
  {
   "cell_type": "code",
   "execution_count": 150,
   "outputs": [
    {
     "name": "stderr",
     "output_type": "stream",
     "text": [
      "Saving tsv Files: 100%|██████████| 11/11 [01:40<00:00,  9.10s/files]\n"
     ]
    }
   ],
   "source": [
    "output_dir = \"../Data/embedding_files\"\n",
    "embedding_files = {\n",
    "    'cqt':cqts,\n",
    "    'cqt_mean_std_avgdiff':cqts_mean_std_avgdiff,\n",
    "    \"mfcc\":mfccs,\n",
    "    \"mfcc_mean_std_avgdiff\": mfccs_mean_std_avgdiff,\n",
    "    # \"cqcc\":cqccs,\n",
    "    # \"cqcc_mean_std_avgdiff\":cqcc_mean_std_avgdiff,\n",
    "    'lfcc':lfccs,\n",
    "    \"lfcc_mean_std_avgdiff\":lfccs_mean_std_avgdiff,\n",
    "    # \"cqcc_mfcc_fusion\":cqcc_mfccs_fusion,\n",
    "    # \"cqcc_mfcc_fusion_deprecated\":cqcc_mfccs_fusion_depricated,\n",
    "    \"lfcc_mfcc_fusion\":lfccs_mfccs_fusion,\n",
    "    \"lfcc_mfcc_fusion_deprecated\":lfccs_mfccs_fusion_depricated,\n",
    "     \"cqt_mfcc_fusion\":cqt_mfccs_fusion,\n",
    "    \"cqt_mfcc_fusion_deprecated\":cqt_mfccs_fusion_depricated,\n",
    "    #  \"lfcc_cqcc_fusion\":lfccs_cqccs_fusion,\n",
    "    # \"lfcc_cqcc_fusion_deprecated\":lfccs_cqccq_fusion_depricated,\n",
    "    \"label\":labels\n",
    "    \n",
    "}\n",
    "os.makedirs(output_dir, exist_ok=True)\n",
    "save_embeddings_to_tsv(embedding_files, output_dir)"
   ],
   "metadata": {
    "collapsed": false,
    "ExecuteTime": {
     "end_time": "2024-03-31T00:00:07.256956600Z",
     "start_time": "2024-03-30T23:58:26.269941500Z"
    }
   },
   "id": "f5877dd4f72b8b10"
  },
  {
   "cell_type": "code",
   "execution_count": 151,
   "outputs": [],
   "source": [
    "ev_files=[\n",
    "    'cqt',\n",
    "    'cqt_mean_std_avgdiff',\n",
    "    \"mfcc\",\n",
    "    \"mfcc_mean_std_avgdiff\",\n",
    "    # \"cqcc\",\n",
    "    # \"cqcc_mean_std_avgdiff\",\n",
    "    'lfcc',\n",
    "    \"lfcc_mean_std_avgdiff\",\n",
    "    # \"cqcc_mfcc_fusion\",\n",
    "    # \"cqcc_mfcc_fusion_deprecated\",\n",
    "    \"lfcc_mfcc_fusion\",\n",
    "    \"lfcc_mfcc_fusion_deprecated\",\n",
    "     \"cqt_mfcc_fusion\",\n",
    "    \"cqt_mfcc_fusion_deprecated\"\n",
    "    #  \"lfcc_cqcc_fusion\",\n",
    "    # \"lfcc_cqcc_fusion_deprecated\"\n",
    "    ]"
   ],
   "metadata": {
    "collapsed": false,
    "ExecuteTime": {
     "end_time": "2024-03-31T00:00:07.736840200Z",
     "start_time": "2024-03-31T00:00:07.230320Z"
    }
   },
   "id": "4da4e01585be0bf5"
  },
  {
   "cell_type": "code",
   "execution_count": 152,
   "outputs": [],
   "source": [
    "path_to_files = \"../Data/embedding_files/\""
   ],
   "metadata": {
    "collapsed": false,
    "ExecuteTime": {
     "end_time": "2024-03-31T00:00:08.253660300Z",
     "start_time": "2024-03-31T00:00:07.738840600Z"
    }
   },
   "id": "bd37670e0f0731c1"
  },
  {
   "cell_type": "code",
   "execution_count": 153,
   "outputs": [
    {
     "name": "stderr",
     "output_type": "stream",
     "text": [
      "Evaluating Audio Features: 100%|████████████████████| 10/10 [00:38<00:00,  3.81s/Features]\n"
     ]
    }
   ],
   "source": [
    "ev_sil_score=get_silhouette_score(path_to_files,ev_files,\"label\")"
   ],
   "metadata": {
    "collapsed": false,
    "ExecuteTime": {
     "end_time": "2024-03-31T00:00:47.321438700Z",
     "start_time": "2024-03-31T00:00:08.253660300Z"
    }
   },
   "id": "1a7b1d0536d4318b"
  },
  {
   "cell_type": "code",
   "execution_count": 154,
   "outputs": [
    {
     "data": {
      "text/plain": "                     Embedding  Silhouette Score\n0                          cqt          0.013274\n1         cqt_mean_std_avgdiff          0.012997\n2                         mfcc          0.061177\n3        mfcc_mean_std_avgdiff          0.163665\n4                         lfcc          0.199595\n5        lfcc_mean_std_avgdiff          0.282564\n6             lfcc_mfcc_fusion          0.064426\n7  lfcc_mfcc_fusion_deprecated          0.170886\n8              cqt_mfcc_fusion          0.061177\n9   cqt_mfcc_fusion_deprecated          0.163665",
      "text/html": "<div>\n<style scoped>\n    .dataframe tbody tr th:only-of-type {\n        vertical-align: middle;\n    }\n\n    .dataframe tbody tr th {\n        vertical-align: top;\n    }\n\n    .dataframe thead th {\n        text-align: right;\n    }\n</style>\n<table border=\"1\" class=\"dataframe\">\n  <thead>\n    <tr style=\"text-align: right;\">\n      <th></th>\n      <th>Embedding</th>\n      <th>Silhouette Score</th>\n    </tr>\n  </thead>\n  <tbody>\n    <tr>\n      <th>0</th>\n      <td>cqt</td>\n      <td>0.013274</td>\n    </tr>\n    <tr>\n      <th>1</th>\n      <td>cqt_mean_std_avgdiff</td>\n      <td>0.012997</td>\n    </tr>\n    <tr>\n      <th>2</th>\n      <td>mfcc</td>\n      <td>0.061177</td>\n    </tr>\n    <tr>\n      <th>3</th>\n      <td>mfcc_mean_std_avgdiff</td>\n      <td>0.163665</td>\n    </tr>\n    <tr>\n      <th>4</th>\n      <td>lfcc</td>\n      <td>0.199595</td>\n    </tr>\n    <tr>\n      <th>5</th>\n      <td>lfcc_mean_std_avgdiff</td>\n      <td>0.282564</td>\n    </tr>\n    <tr>\n      <th>6</th>\n      <td>lfcc_mfcc_fusion</td>\n      <td>0.064426</td>\n    </tr>\n    <tr>\n      <th>7</th>\n      <td>lfcc_mfcc_fusion_deprecated</td>\n      <td>0.170886</td>\n    </tr>\n    <tr>\n      <th>8</th>\n      <td>cqt_mfcc_fusion</td>\n      <td>0.061177</td>\n    </tr>\n    <tr>\n      <th>9</th>\n      <td>cqt_mfcc_fusion_deprecated</td>\n      <td>0.163665</td>\n    </tr>\n  </tbody>\n</table>\n</div>"
     },
     "execution_count": 154,
     "metadata": {},
     "output_type": "execute_result"
    }
   ],
   "source": [
    "ev_sil_score"
   ],
   "metadata": {
    "collapsed": false,
    "ExecuteTime": {
     "end_time": "2024-03-31T00:00:48.114478600Z",
     "start_time": "2024-03-31T00:00:47.274796400Z"
    }
   },
   "id": "995c15b161750508"
  },
  {
   "cell_type": "code",
   "execution_count": 155,
   "outputs": [
    {
     "name": "stderr",
     "output_type": "stream",
     "text": [
      "Evaluating Audio Features: 100%|████████████████████| 10/10 [02:30<00:00, 15.03s/Features]\n"
     ]
    }
   ],
   "source": [
    "ev_score_svm=compute_ev_score_svm(path_to_files,ev_files,\"label\")"
   ],
   "metadata": {
    "collapsed": false,
    "ExecuteTime": {
     "end_time": "2024-03-31T00:03:18.999632400Z",
     "start_time": "2024-03-31T00:00:48.097242600Z"
    }
   },
   "id": "b76beaed8277ec5a"
  },
  {
   "cell_type": "code",
   "execution_count": 156,
   "outputs": [
    {
     "data": {
      "text/plain": "                     Embedding  Accuracy  Equal Error Rate  \\\n0                          cqt  0.466667         48.213743   \n1         cqt_mean_std_avgdiff  0.470085         48.213743   \n2                         mfcc  0.488889         47.993311   \n3        mfcc_mean_std_avgdiff  0.752137         14.700517   \n4                         lfcc  0.803419         17.946184   \n5        lfcc_mean_std_avgdiff  0.815385         16.068714   \n6             lfcc_mfcc_fusion  0.488889         47.826087   \n7  lfcc_mfcc_fusion_deprecated  0.800000         14.358468   \n8              cqt_mfcc_fusion  0.488889         44.679234   \n9   cqt_mfcc_fusion_deprecated  0.863248         14.540894   \n\n   Computation Time (seconds)  \n0                   11.321128  \n1                    0.919102  \n2                   24.153805  \n3                    0.649113  \n4                    5.471336  \n5                    0.690523  \n6                   33.047134  \n7                    0.839478  \n8                   41.764352  \n9                    1.204433  ",
      "text/html": "<div>\n<style scoped>\n    .dataframe tbody tr th:only-of-type {\n        vertical-align: middle;\n    }\n\n    .dataframe tbody tr th {\n        vertical-align: top;\n    }\n\n    .dataframe thead th {\n        text-align: right;\n    }\n</style>\n<table border=\"1\" class=\"dataframe\">\n  <thead>\n    <tr style=\"text-align: right;\">\n      <th></th>\n      <th>Embedding</th>\n      <th>Accuracy</th>\n      <th>Equal Error Rate</th>\n      <th>Computation Time (seconds)</th>\n    </tr>\n  </thead>\n  <tbody>\n    <tr>\n      <th>0</th>\n      <td>cqt</td>\n      <td>0.466667</td>\n      <td>48.213743</td>\n      <td>11.321128</td>\n    </tr>\n    <tr>\n      <th>1</th>\n      <td>cqt_mean_std_avgdiff</td>\n      <td>0.470085</td>\n      <td>48.213743</td>\n      <td>0.919102</td>\n    </tr>\n    <tr>\n      <th>2</th>\n      <td>mfcc</td>\n      <td>0.488889</td>\n      <td>47.993311</td>\n      <td>24.153805</td>\n    </tr>\n    <tr>\n      <th>3</th>\n      <td>mfcc_mean_std_avgdiff</td>\n      <td>0.752137</td>\n      <td>14.700517</td>\n      <td>0.649113</td>\n    </tr>\n    <tr>\n      <th>4</th>\n      <td>lfcc</td>\n      <td>0.803419</td>\n      <td>17.946184</td>\n      <td>5.471336</td>\n    </tr>\n    <tr>\n      <th>5</th>\n      <td>lfcc_mean_std_avgdiff</td>\n      <td>0.815385</td>\n      <td>16.068714</td>\n      <td>0.690523</td>\n    </tr>\n    <tr>\n      <th>6</th>\n      <td>lfcc_mfcc_fusion</td>\n      <td>0.488889</td>\n      <td>47.826087</td>\n      <td>33.047134</td>\n    </tr>\n    <tr>\n      <th>7</th>\n      <td>lfcc_mfcc_fusion_deprecated</td>\n      <td>0.800000</td>\n      <td>14.358468</td>\n      <td>0.839478</td>\n    </tr>\n    <tr>\n      <th>8</th>\n      <td>cqt_mfcc_fusion</td>\n      <td>0.488889</td>\n      <td>44.679234</td>\n      <td>41.764352</td>\n    </tr>\n    <tr>\n      <th>9</th>\n      <td>cqt_mfcc_fusion_deprecated</td>\n      <td>0.863248</td>\n      <td>14.540894</td>\n      <td>1.204433</td>\n    </tr>\n  </tbody>\n</table>\n</div>"
     },
     "execution_count": 156,
     "metadata": {},
     "output_type": "execute_result"
    }
   ],
   "source": [
    "ev_score_svm=pd.DataFrame(ev_score_svm)\n",
    "ev_score_svm"
   ],
   "metadata": {
    "collapsed": false,
    "ExecuteTime": {
     "end_time": "2024-03-31T00:03:19.368027200Z",
     "start_time": "2024-03-31T00:03:18.985626200Z"
    }
   },
   "id": "4989d04b1dcafc28"
  },
  {
   "cell_type": "code",
   "execution_count": 157,
   "outputs": [
    {
     "name": "stderr",
     "output_type": "stream",
     "text": [
      "Evaluating Audio Features:   0%|                    | 0/10 [00:00<?, ?Features/s]"
     ]
    },
    {
     "name": "stdout",
     "output_type": "stream",
     "text": [
      "[LightGBM] [Info] Number of positive: 651, number of negative: 714\n",
      "[LightGBM] [Warning] Auto-choosing col-wise multi-threading, the overhead of testing was 0.120428 seconds.\n",
      "You can set `force_col_wise=true` to remove the overhead.\n",
      "[LightGBM] [Info] Total Bins 685440\n",
      "[LightGBM] [Info] Number of data points in the train set: 1365, number of used features: 2688\n",
      "[LightGBM] [Info] [binary:BoostFromScore]: pavg=0.476923 -> initscore=-0.092373\n",
      "[LightGBM] [Info] Start training from score -0.092373\n"
     ]
    },
    {
     "name": "stderr",
     "output_type": "stream",
     "text": [
      "Evaluating Audio Features:  10%|██                  | 1/10 [00:30<04:36, 30.76s/Features]"
     ]
    },
    {
     "name": "stdout",
     "output_type": "stream",
     "text": [
      "[LightGBM] [Info] Number of positive: 651, number of negative: 714\n",
      "[LightGBM] [Warning] Auto-choosing col-wise multi-threading, the overhead of testing was 0.005160 seconds.\n",
      "You can set `force_col_wise=true` to remove the overhead.\n",
      "[LightGBM] [Info] Total Bins 64260\n",
      "[LightGBM] [Info] Number of data points in the train set: 1365, number of used features: 252\n",
      "[LightGBM] [Info] [binary:BoostFromScore]: pavg=0.476923 -> initscore=-0.092373\n",
      "[LightGBM] [Info] Start training from score -0.092373\n"
     ]
    },
    {
     "name": "stderr",
     "output_type": "stream",
     "text": [
      "Evaluating Audio Features:  20%|████                | 2/10 [00:33<01:52, 14.03s/Features]"
     ]
    },
    {
     "name": "stdout",
     "output_type": "stream",
     "text": [
      "[LightGBM] [Info] Number of positive: 651, number of negative: 714\n",
      "[LightGBM] [Warning] Auto-choosing col-wise multi-threading, the overhead of testing was 0.176706 seconds.\n",
      "You can set `force_col_wise=true` to remove the overhead.\n",
      "[LightGBM] [Info] Total Bins 1009800\n",
      "[LightGBM] [Info] Number of data points in the train set: 1365, number of used features: 3960\n",
      "[LightGBM] [Info] [binary:BoostFromScore]: pavg=0.476923 -> initscore=-0.092373\n",
      "[LightGBM] [Info] Start training from score -0.092373\n"
     ]
    },
    {
     "name": "stderr",
     "output_type": "stream",
     "text": [
      "Evaluating Audio Features:  30%|██████              | 3/10 [01:31<04:00, 34.35s/Features]"
     ]
    },
    {
     "name": "stdout",
     "output_type": "stream",
     "text": [
      "[LightGBM] [Info] Number of positive: 651, number of negative: 714\n",
      "[LightGBM] [Warning] Auto-choosing col-wise multi-threading, the overhead of testing was 0.009361 seconds.\n",
      "You can set `force_col_wise=true` to remove the overhead.\n",
      "[LightGBM] [Info] Total Bins 30600\n",
      "[LightGBM] [Info] Number of data points in the train set: 1365, number of used features: 120\n",
      "[LightGBM] [Info] [binary:BoostFromScore]: pavg=0.476923 -> initscore=-0.092373\n",
      "[LightGBM] [Info] Start training from score -0.092373\n"
     ]
    },
    {
     "name": "stderr",
     "output_type": "stream",
     "text": [
      "Evaluating Audio Features:  40%|████████            | 4/10 [01:33<02:09, 21.59s/Features]"
     ]
    },
    {
     "name": "stdout",
     "output_type": "stream",
     "text": [
      "[LightGBM] [Info] Number of positive: 651, number of negative: 714\n",
      "[LightGBM] [Warning] Auto-choosing col-wise multi-threading, the overhead of testing was 0.100530 seconds.\n",
      "You can set `force_col_wise=true` to remove the overhead.\n",
      "[LightGBM] [Info] Total Bins 331500\n",
      "[LightGBM] [Info] Number of data points in the train set: 1365, number of used features: 1300\n",
      "[LightGBM] [Info] [binary:BoostFromScore]: pavg=0.476923 -> initscore=-0.092373\n",
      "[LightGBM] [Info] Start training from score -0.092373\n",
      "[LightGBM] [Warning] No further splits with positive gain, best gain: -inf\n"
     ]
    },
    {
     "name": "stderr",
     "output_type": "stream",
     "text": [
      "Evaluating Audio Features:  50%|██████████          | 5/10 [01:54<01:46, 21.22s/Features]"
     ]
    },
    {
     "name": "stdout",
     "output_type": "stream",
     "text": [
      "[LightGBM] [Info] Number of positive: 651, number of negative: 714\n",
      "[LightGBM] [Warning] Auto-choosing col-wise multi-threading, the overhead of testing was 0.001607 seconds.\n",
      "You can set `force_col_wise=true` to remove the overhead.\n",
      "[LightGBM] [Info] Total Bins 15300\n",
      "[LightGBM] [Info] Number of data points in the train set: 1365, number of used features: 60\n",
      "[LightGBM] [Info] [binary:BoostFromScore]: pavg=0.476923 -> initscore=-0.092373\n",
      "[LightGBM] [Info] Start training from score -0.092373\n"
     ]
    },
    {
     "name": "stderr",
     "output_type": "stream",
     "text": [
      "Evaluating Audio Features:  60%|████████████        | 6/10 [01:55<00:57, 14.32s/Features]"
     ]
    },
    {
     "name": "stdout",
     "output_type": "stream",
     "text": [
      "[LightGBM] [Info] Number of positive: 651, number of negative: 714\n",
      "[LightGBM] [Warning] Auto-choosing col-wise multi-threading, the overhead of testing was 0.403306 seconds.\n",
      "You can set `force_col_wise=true` to remove the overhead.\n",
      "[LightGBM] [Info] Total Bins 1341300\n",
      "[LightGBM] [Info] Number of data points in the train set: 1365, number of used features: 5260\n",
      "[LightGBM] [Info] [binary:BoostFromScore]: pavg=0.476923 -> initscore=-0.092373\n",
      "[LightGBM] [Info] Start training from score -0.092373\n",
      "[LightGBM] [Warning] No further splits with positive gain, best gain: -inf\n"
     ]
    },
    {
     "name": "stderr",
     "output_type": "stream",
     "text": [
      "Evaluating Audio Features:  70%|██████████████      | 7/10 [03:21<01:53, 37.96s/Features]"
     ]
    },
    {
     "name": "stdout",
     "output_type": "stream",
     "text": [
      "[LightGBM] [Info] Number of positive: 651, number of negative: 714\n",
      "[LightGBM] [Warning] Auto-choosing col-wise multi-threading, the overhead of testing was 0.003862 seconds.\n",
      "You can set `force_col_wise=true` to remove the overhead.\n",
      "[LightGBM] [Info] Total Bins 45900\n",
      "[LightGBM] [Info] Number of data points in the train set: 1365, number of used features: 180\n",
      "[LightGBM] [Info] [binary:BoostFromScore]: pavg=0.476923 -> initscore=-0.092373\n",
      "[LightGBM] [Info] Start training from score -0.092373\n",
      "[LightGBM] [Warning] No further splits with positive gain, best gain: -inf\n"
     ]
    },
    {
     "name": "stderr",
     "output_type": "stream",
     "text": [
      "Evaluating Audio Features:  80%|████████████████    | 8/10 [03:24<00:53, 26.65s/Features]"
     ]
    },
    {
     "name": "stdout",
     "output_type": "stream",
     "text": [
      "[LightGBM] [Info] Number of positive: 651, number of negative: 714\n",
      "[LightGBM] [Warning] Auto-choosing col-wise multi-threading, the overhead of testing was 0.864979 seconds.\n",
      "You can set `force_col_wise=true` to remove the overhead.\n",
      "[LightGBM] [Info] Total Bins 1695240\n",
      "[LightGBM] [Info] Number of data points in the train set: 1365, number of used features: 6648\n",
      "[LightGBM] [Info] [binary:BoostFromScore]: pavg=0.476923 -> initscore=-0.092373\n",
      "[LightGBM] [Info] Start training from score -0.092373\n",
      "[LightGBM] [Warning] No further splits with positive gain, best gain: -inf\n"
     ]
    },
    {
     "name": "stderr",
     "output_type": "stream",
     "text": [
      "Evaluating Audio Features:  90%|██████████████████  | 9/10 [05:17<00:53, 53.59s/Features]"
     ]
    },
    {
     "name": "stdout",
     "output_type": "stream",
     "text": [
      "[LightGBM] [Info] Number of positive: 651, number of negative: 714\n",
      "[LightGBM] [Warning] Auto-choosing col-wise multi-threading, the overhead of testing was 0.016234 seconds.\n",
      "You can set `force_col_wise=true` to remove the overhead.\n",
      "[LightGBM] [Info] Total Bins 94860\n",
      "[LightGBM] [Info] Number of data points in the train set: 1365, number of used features: 372\n",
      "[LightGBM] [Info] [binary:BoostFromScore]: pavg=0.476923 -> initscore=-0.092373\n",
      "[LightGBM] [Info] Start training from score -0.092373\n"
     ]
    },
    {
     "name": "stderr",
     "output_type": "stream",
     "text": [
      "Evaluating Audio Features: 100%|████████████████████| 10/10 [05:22<00:00, 32.23s/Features]\n"
     ]
    }
   ],
   "source": [
    "ev_score_lgb=compute_ev_score_lgb(path_to_files,ev_files,\"label\")"
   ],
   "metadata": {
    "collapsed": false,
    "ExecuteTime": {
     "end_time": "2024-03-31T00:08:42.343687500Z",
     "start_time": "2024-03-31T00:03:19.368027200Z"
    }
   },
   "id": "8411228f9f73db08"
  },
  {
   "cell_type": "code",
   "execution_count": 158,
   "outputs": [],
   "source": [
    "ev_score_lgb=pd.DataFrame(ev_score_lgb)"
   ],
   "metadata": {
    "collapsed": false,
    "ExecuteTime": {
     "end_time": "2024-03-31T00:08:43.992614200Z",
     "start_time": "2024-03-31T00:08:42.374686100Z"
    }
   },
   "id": "44718fce0afea7e1"
  },
  {
   "cell_type": "code",
   "execution_count": 159,
   "outputs": [
    {
     "data": {
      "text/plain": "                     Embedding  Accuracy  Equal Error Rate  \\\n0                          cqt  0.635897         36.409243   \n1         cqt_mean_std_avgdiff  0.632479         36.067194   \n2                         mfcc  0.902564         11.964123   \n3        mfcc_mean_std_avgdiff  0.905983          8.034357   \n4                         lfcc  0.923077          6.324111   \n5        lfcc_mean_std_avgdiff  0.948718          4.446640   \n6             lfcc_mfcc_fusion  0.917949          7.350258   \n7  lfcc_mfcc_fusion_deprecated  0.962393          3.587717   \n8              cqt_mfcc_fusion  0.909402         11.112800   \n9   cqt_mfcc_fusion_deprecated  0.904274         10.086652   \n\n   Computation Time (seconds)  \n0                   27.512817  \n1                    2.023120  \n2                   52.925184  \n3                    1.784736  \n4                   18.725154  \n5                    0.799202  \n6                   77.436966  \n7                    2.130270  \n8                  102.392456  \n9                    4.473155  ",
      "text/html": "<div>\n<style scoped>\n    .dataframe tbody tr th:only-of-type {\n        vertical-align: middle;\n    }\n\n    .dataframe tbody tr th {\n        vertical-align: top;\n    }\n\n    .dataframe thead th {\n        text-align: right;\n    }\n</style>\n<table border=\"1\" class=\"dataframe\">\n  <thead>\n    <tr style=\"text-align: right;\">\n      <th></th>\n      <th>Embedding</th>\n      <th>Accuracy</th>\n      <th>Equal Error Rate</th>\n      <th>Computation Time (seconds)</th>\n    </tr>\n  </thead>\n  <tbody>\n    <tr>\n      <th>0</th>\n      <td>cqt</td>\n      <td>0.635897</td>\n      <td>36.409243</td>\n      <td>27.512817</td>\n    </tr>\n    <tr>\n      <th>1</th>\n      <td>cqt_mean_std_avgdiff</td>\n      <td>0.632479</td>\n      <td>36.067194</td>\n      <td>2.023120</td>\n    </tr>\n    <tr>\n      <th>2</th>\n      <td>mfcc</td>\n      <td>0.902564</td>\n      <td>11.964123</td>\n      <td>52.925184</td>\n    </tr>\n    <tr>\n      <th>3</th>\n      <td>mfcc_mean_std_avgdiff</td>\n      <td>0.905983</td>\n      <td>8.034357</td>\n      <td>1.784736</td>\n    </tr>\n    <tr>\n      <th>4</th>\n      <td>lfcc</td>\n      <td>0.923077</td>\n      <td>6.324111</td>\n      <td>18.725154</td>\n    </tr>\n    <tr>\n      <th>5</th>\n      <td>lfcc_mean_std_avgdiff</td>\n      <td>0.948718</td>\n      <td>4.446640</td>\n      <td>0.799202</td>\n    </tr>\n    <tr>\n      <th>6</th>\n      <td>lfcc_mfcc_fusion</td>\n      <td>0.917949</td>\n      <td>7.350258</td>\n      <td>77.436966</td>\n    </tr>\n    <tr>\n      <th>7</th>\n      <td>lfcc_mfcc_fusion_deprecated</td>\n      <td>0.962393</td>\n      <td>3.587717</td>\n      <td>2.130270</td>\n    </tr>\n    <tr>\n      <th>8</th>\n      <td>cqt_mfcc_fusion</td>\n      <td>0.909402</td>\n      <td>11.112800</td>\n      <td>102.392456</td>\n    </tr>\n    <tr>\n      <th>9</th>\n      <td>cqt_mfcc_fusion_deprecated</td>\n      <td>0.904274</td>\n      <td>10.086652</td>\n      <td>4.473155</td>\n    </tr>\n  </tbody>\n</table>\n</div>"
     },
     "execution_count": 159,
     "metadata": {},
     "output_type": "execute_result"
    }
   ],
   "source": [
    "ev_score_lgb"
   ],
   "metadata": {
    "collapsed": false,
    "ExecuteTime": {
     "end_time": "2024-03-31T00:08:44.459998500Z",
     "start_time": "2024-03-31T00:08:44.006616400Z"
    }
   },
   "id": "30cae10926c394c4"
  },
  {
   "cell_type": "code",
   "execution_count": 160,
   "outputs": [],
   "source": [
    "ev_xgb_files=[\n",
    "    'cqt',\n",
    "    'cqt_mean_std_avgdiff',\n",
    "    \"mfcc\",\n",
    "    \"mfcc_mean_std_avgdiff\",\n",
    "    'lfcc',\n",
    "    \"lfcc_mean_std_avgdiff\",\n",
    "    \"lfcc_mfcc_fusion\",\n",
    "    \"lfcc_mfcc_fusion_deprecated\",\n",
    "     \"cqt_mfcc_fusion\",\n",
    "    \"cqt_mfcc_fusion_deprecated\",\n",
    "    ]"
   ],
   "metadata": {
    "collapsed": false,
    "ExecuteTime": {
     "end_time": "2024-03-31T00:08:45.004699600Z",
     "start_time": "2024-03-31T00:08:44.474445200Z"
    }
   },
   "id": "37e7ef62b5d0b3b3"
  },
  {
   "cell_type": "code",
   "execution_count": 161,
   "outputs": [
    {
     "name": "stderr",
     "output_type": "stream",
     "text": [
      "Evaluating Audio Features: 100%|████████████████████| 10/10 [05:05<00:00, 30.50s/Features]\n"
     ]
    }
   ],
   "source": [
    "ev_score_xgb=compute_ev_score_xgboost(path_to_files,ev_xgb_files,\"label\")"
   ],
   "metadata": {
    "collapsed": false,
    "ExecuteTime": {
     "end_time": "2024-03-31T00:13:51.247275500Z",
     "start_time": "2024-03-31T00:08:45.052022800Z"
    }
   },
   "id": "31e525bf05609f2b"
  },
  {
   "cell_type": "code",
   "execution_count": 162,
   "outputs": [
    {
     "data": {
      "text/plain": "                     Embedding  Accuracy  Equal Error Rate  \\\n0                          cqt  0.639316         37.093341   \n1         cqt_mean_std_avgdiff  0.620513         38.111888   \n2                         mfcc  0.904274         12.648221   \n3        mfcc_mean_std_avgdiff  0.921368          9.744603   \n4                         lfcc  0.935043          5.297963   \n5        lfcc_mean_std_avgdiff  0.953846          4.271815   \n6             lfcc_mfcc_fusion  0.919658          5.640012   \n7  lfcc_mfcc_fusion_deprecated  0.958974          4.446640   \n8              cqt_mfcc_fusion  0.904274         12.138948   \n9   cqt_mfcc_fusion_deprecated  0.916239          8.726057   \n\n   Computation Time (seconds)  \n0                   46.046990  \n1                    5.163155  \n2                   43.172450  \n3                    1.278521  \n4                   11.956561  \n5                    0.631542  \n6                   58.507043  \n7                    4.944727  \n8                   95.349706  \n9                    6.841616  ",
      "text/html": "<div>\n<style scoped>\n    .dataframe tbody tr th:only-of-type {\n        vertical-align: middle;\n    }\n\n    .dataframe tbody tr th {\n        vertical-align: top;\n    }\n\n    .dataframe thead th {\n        text-align: right;\n    }\n</style>\n<table border=\"1\" class=\"dataframe\">\n  <thead>\n    <tr style=\"text-align: right;\">\n      <th></th>\n      <th>Embedding</th>\n      <th>Accuracy</th>\n      <th>Equal Error Rate</th>\n      <th>Computation Time (seconds)</th>\n    </tr>\n  </thead>\n  <tbody>\n    <tr>\n      <th>0</th>\n      <td>cqt</td>\n      <td>0.639316</td>\n      <td>37.093341</td>\n      <td>46.046990</td>\n    </tr>\n    <tr>\n      <th>1</th>\n      <td>cqt_mean_std_avgdiff</td>\n      <td>0.620513</td>\n      <td>38.111888</td>\n      <td>5.163155</td>\n    </tr>\n    <tr>\n      <th>2</th>\n      <td>mfcc</td>\n      <td>0.904274</td>\n      <td>12.648221</td>\n      <td>43.172450</td>\n    </tr>\n    <tr>\n      <th>3</th>\n      <td>mfcc_mean_std_avgdiff</td>\n      <td>0.921368</td>\n      <td>9.744603</td>\n      <td>1.278521</td>\n    </tr>\n    <tr>\n      <th>4</th>\n      <td>lfcc</td>\n      <td>0.935043</td>\n      <td>5.297963</td>\n      <td>11.956561</td>\n    </tr>\n    <tr>\n      <th>5</th>\n      <td>lfcc_mean_std_avgdiff</td>\n      <td>0.953846</td>\n      <td>4.271815</td>\n      <td>0.631542</td>\n    </tr>\n    <tr>\n      <th>6</th>\n      <td>lfcc_mfcc_fusion</td>\n      <td>0.919658</td>\n      <td>5.640012</td>\n      <td>58.507043</td>\n    </tr>\n    <tr>\n      <th>7</th>\n      <td>lfcc_mfcc_fusion_deprecated</td>\n      <td>0.958974</td>\n      <td>4.446640</td>\n      <td>4.944727</td>\n    </tr>\n    <tr>\n      <th>8</th>\n      <td>cqt_mfcc_fusion</td>\n      <td>0.904274</td>\n      <td>12.138948</td>\n      <td>95.349706</td>\n    </tr>\n    <tr>\n      <th>9</th>\n      <td>cqt_mfcc_fusion_deprecated</td>\n      <td>0.916239</td>\n      <td>8.726057</td>\n      <td>6.841616</td>\n    </tr>\n  </tbody>\n</table>\n</div>"
     },
     "execution_count": 162,
     "metadata": {},
     "output_type": "execute_result"
    }
   ],
   "source": [
    "ev_score_xgb=pd.DataFrame(ev_score_xgb)\n",
    "ev_score_xgb"
   ],
   "metadata": {
    "collapsed": false,
    "ExecuteTime": {
     "end_time": "2024-03-31T00:13:53.069498800Z",
     "start_time": "2024-03-31T00:13:51.273961400Z"
    }
   },
   "id": "4dbac0ad353db559"
  },
  {
   "cell_type": "code",
   "execution_count": 3,
   "outputs": [
    {
     "name": "stdout",
     "output_type": "stream",
     "text": [
      "[LightGBM] [Info] Number of positive: 742, number of negative: 818\n",
      "[LightGBM] [Warning] Auto-choosing col-wise multi-threading, the overhead of testing was 0.004494 seconds.\n",
      "You can set `force_col_wise=true` to remove the overhead.\n",
      "[LightGBM] [Info] Total Bins 45900\n",
      "[LightGBM] [Info] Number of data points in the train set: 1560, number of used features: 180\n",
      "[LightGBM] [Info] [binary:BoostFromScore]: pavg=0.475641 -> initscore=-0.097513\n",
      "[LightGBM] [Info] Start training from score -0.097513\n",
      "|   iter    |  target   | baggin... | featur... | max_depth | min_ch... | min_sp... | num_le... |\n",
      "-------------------------------------------------------------------------------------------------\n",
      "[LightGBM] [Warning] feature_fraction is set=0.11558019319009967, colsample_bytree=1.0 will be ignored. Current value: feature_fraction=0.11558019319009967\n",
      "[LightGBM] [Warning] bagging_fraction is set=0.8360539377753539, subsample=1.0 will be ignored. Current value: bagging_fraction=0.8360539377753539\n",
      "[LightGBM] [Warning] early_stopping_round is set=50, early_stopping_rounds=50 will be ignored. Current value: early_stopping_round=50\n",
      "[LightGBM] [Warning] feature_fraction is set=0.11558019319009967, colsample_bytree=1.0 will be ignored. Current value: feature_fraction=0.11558019319009967\n",
      "[LightGBM] [Warning] bagging_fraction is set=0.8360539377753539, subsample=1.0 will be ignored. Current value: bagging_fraction=0.8360539377753539\n",
      "[LightGBM] [Info] Number of positive: 742, number of negative: 818\n",
      "[LightGBM] [Warning] Auto-choosing col-wise multi-threading, the overhead of testing was 0.001829 seconds.\n",
      "You can set `force_col_wise=true` to remove the overhead.\n",
      "[LightGBM] [Info] Total Bins 45900\n",
      "[LightGBM] [Info] Number of data points in the train set: 1560, number of used features: 180\n",
      "[LightGBM] [Warning] feature_fraction is set=0.11558019319009967, colsample_bytree=1.0 will be ignored. Current value: feature_fraction=0.11558019319009967\n",
      "[LightGBM] [Warning] bagging_fraction is set=0.8360539377753539, subsample=1.0 will be ignored. Current value: bagging_fraction=0.8360539377753539\n",
      "[LightGBM] [Warning] early_stopping_round is set=50, early_stopping_rounds=50 will be ignored. Current value: early_stopping_round=50\n",
      "[LightGBM] [Info] [binary:BoostFromScore]: pavg=0.475641 -> initscore=-0.097513\n",
      "[LightGBM] [Info] Start training from score -0.097513\n",
      "[LightGBM] [Warning] No further splits with positive gain, best gain: -inf\n",
      "Training until validation scores don't improve for 50 rounds\n",
      "[LightGBM] [Warning] No further splits with positive gain, best gain: -inf\n",
      "[LightGBM] [Warning] No further splits with positive gain, best gain: -inf\n",
      "[LightGBM] [Warning] No further splits with positive gain, best gain: -inf\n",
      "[LightGBM] [Warning] No further splits with positive gain, best gain: -inf\n",
      "[LightGBM] [Warning] No further splits with positive gain, best gain: -inf\n",
      "[LightGBM] [Warning] No further splits with positive gain, best gain: -inf\n",
      "[LightGBM] [Warning] No further splits with positive gain, best gain: -inf\n",
      "[LightGBM] [Warning] No further splits with positive gain, best gain: -inf\n",
      "[LightGBM] [Warning] No further splits with positive gain, best gain: -inf\n",
      "[LightGBM] [Warning] No further splits with positive gain, best gain: -inf\n",
      "[LightGBM] [Warning] No further splits with positive gain, best gain: -inf\n",
      "[LightGBM] [Warning] No further splits with positive gain, best gain: -inf\n",
      "[LightGBM] [Warning] No further splits with positive gain, best gain: -inf\n",
      "[LightGBM] [Warning] No further splits with positive gain, best gain: -inf\n",
      "[LightGBM] [Warning] No further splits with positive gain, best gain: -inf\n",
      "[LightGBM] [Warning] No further splits with positive gain, best gain: -inf\n",
      "[LightGBM] [Warning] No further splits with positive gain, best gain: -inf\n",
      "[LightGBM] [Warning] No further splits with positive gain, best gain: -inf\n",
      "[LightGBM] [Warning] No further splits with positive gain, best gain: -inf\n",
      "[LightGBM] [Warning] No further splits with positive gain, best gain: -inf\n",
      "[LightGBM] [Warning] No further splits with positive gain, best gain: -inf\n",
      "[LightGBM] [Warning] No further splits with positive gain, best gain: -inf\n",
      "[LightGBM] [Warning] No further splits with positive gain, best gain: -inf\n",
      "[LightGBM] [Warning] No further splits with positive gain, best gain: -inf\n",
      "[LightGBM] [Warning] No further splits with positive gain, best gain: -inf\n",
      "[LightGBM] [Warning] No further splits with positive gain, best gain: -inf\n",
      "[LightGBM] [Warning] No further splits with positive gain, best gain: -inf\n",
      "[LightGBM] [Warning] No further splits with positive gain, best gain: -inf\n",
      "[LightGBM] [Warning] No further splits with positive gain, best gain: -inf\n",
      "[LightGBM] [Warning] No further splits with positive gain, best gain: -inf\n",
      "[LightGBM] [Warning] No further splits with positive gain, best gain: -inf\n",
      "[LightGBM] [Warning] No further splits with positive gain, best gain: -inf\n",
      "[LightGBM] [Warning] No further splits with positive gain, best gain: -inf\n",
      "[LightGBM] [Warning] No further splits with positive gain, best gain: -inf\n",
      "[LightGBM] [Warning] No further splits with positive gain, best gain: -inf\n",
      "[LightGBM] [Warning] No further splits with positive gain, best gain: -inf\n",
      "[LightGBM] [Warning] No further splits with positive gain, best gain: -inf\n",
      "[LightGBM] [Warning] No further splits with positive gain, best gain: -inf\n",
      "[LightGBM] [Warning] No further splits with positive gain, best gain: -inf\n",
      "[LightGBM] [Warning] No further splits with positive gain, best gain: -inf\n",
      "[LightGBM] [Warning] No further splits with positive gain, best gain: -inf\n",
      "[LightGBM] [Warning] No further splits with positive gain, best gain: -inf\n",
      "[LightGBM] [Warning] No further splits with positive gain, best gain: -inf\n",
      "[LightGBM] [Warning] No further splits with positive gain, best gain: -inf\n",
      "[LightGBM] [Warning] No further splits with positive gain, best gain: -inf\n",
      "[LightGBM] [Warning] No further splits with positive gain, best gain: -inf\n",
      "[LightGBM] [Warning] No further splits with positive gain, best gain: -inf\n",
      "[LightGBM] [Warning] No further splits with positive gain, best gain: -inf\n",
      "[LightGBM] [Warning] No further splits with positive gain, best gain: -inf\n",
      "[LightGBM] [Warning] No further splits with positive gain, best gain: -inf\n",
      "Early stopping, best iteration is:\n",
      "[1]\tvalid_0's binary_logloss: 0.670306\tvalid_0's eer: 0\n",
      "[LightGBM] [Warning] feature_fraction is set=0.11558019319009967, colsample_bytree=1.0 will be ignored. Current value: feature_fraction=0.11558019319009967\n",
      "[LightGBM] [Warning] bagging_fraction is set=0.8360539377753539, subsample=1.0 will be ignored. Current value: bagging_fraction=0.8360539377753539\n",
      "| \u001B[0m1        \u001B[0m | \u001B[0m-4.646   \u001B[0m | \u001B[0m0.8361   \u001B[0m | \u001B[0m0.1156   \u001B[0m | \u001B[0m20.71    \u001B[0m | \u001B[0m20.87    \u001B[0m | \u001B[0m0.0426   \u001B[0m | \u001B[0m89.71    \u001B[0m |\n",
      "[LightGBM] [Warning] feature_fraction is set=0.4898972858558973, colsample_bytree=1.0 will be ignored. Current value: feature_fraction=0.4898972858558973\n",
      "[LightGBM] [Warning] bagging_fraction is set=0.8025561629181218, subsample=1.0 will be ignored. Current value: bagging_fraction=0.8025561629181218\n",
      "[LightGBM] [Warning] early_stopping_round is set=50, early_stopping_rounds=50 will be ignored. Current value: early_stopping_round=50\n",
      "[LightGBM] [Warning] feature_fraction is set=0.4898972858558973, colsample_bytree=1.0 will be ignored. Current value: feature_fraction=0.4898972858558973\n",
      "[LightGBM] [Warning] bagging_fraction is set=0.8025561629181218, subsample=1.0 will be ignored. Current value: bagging_fraction=0.8025561629181218\n",
      "[LightGBM] [Info] Number of positive: 742, number of negative: 818\n",
      "[LightGBM] [Warning] Auto-choosing col-wise multi-threading, the overhead of testing was 0.012179 seconds.\n",
      "You can set `force_col_wise=true` to remove the overhead.\n",
      "[LightGBM] [Info] Total Bins 45900\n",
      "[LightGBM] [Info] Number of data points in the train set: 1560, number of used features: 180\n",
      "[LightGBM] [Warning] feature_fraction is set=0.4898972858558973, colsample_bytree=1.0 will be ignored. Current value: feature_fraction=0.4898972858558973\n",
      "[LightGBM] [Warning] bagging_fraction is set=0.8025561629181218, subsample=1.0 will be ignored. Current value: bagging_fraction=0.8025561629181218\n",
      "[LightGBM] [Warning] early_stopping_round is set=50, early_stopping_rounds=50 will be ignored. Current value: early_stopping_round=50\n",
      "[LightGBM] [Info] [binary:BoostFromScore]: pavg=0.475641 -> initscore=-0.097513\n",
      "[LightGBM] [Info] Start training from score -0.097513\n",
      "[LightGBM] [Warning] No further splits with positive gain, best gain: -inf\n",
      "Training until validation scores don't improve for 50 rounds\n",
      "[LightGBM] [Warning] No further splits with positive gain, best gain: -inf\n",
      "[LightGBM] [Warning] No further splits with positive gain, best gain: -inf\n",
      "[LightGBM] [Warning] No further splits with positive gain, best gain: -inf\n",
      "[LightGBM] [Warning] No further splits with positive gain, best gain: -inf\n",
      "[LightGBM] [Warning] No further splits with positive gain, best gain: -inf\n",
      "[LightGBM] [Warning] No further splits with positive gain, best gain: -inf\n",
      "[LightGBM] [Warning] No further splits with positive gain, best gain: -inf\n",
      "[LightGBM] [Warning] No further splits with positive gain, best gain: -inf\n",
      "[LightGBM] [Warning] No further splits with positive gain, best gain: -inf\n",
      "[LightGBM] [Warning] No further splits with positive gain, best gain: -inf\n",
      "[LightGBM] [Warning] No further splits with positive gain, best gain: -inf\n",
      "[LightGBM] [Warning] No further splits with positive gain, best gain: -inf\n",
      "[LightGBM] [Warning] No further splits with positive gain, best gain: -inf\n",
      "[LightGBM] [Warning] No further splits with positive gain, best gain: -inf\n",
      "[LightGBM] [Warning] No further splits with positive gain, best gain: -inf\n",
      "[LightGBM] [Warning] No further splits with positive gain, best gain: -inf\n",
      "[LightGBM] [Warning] No further splits with positive gain, best gain: -inf\n",
      "[LightGBM] [Warning] No further splits with positive gain, best gain: -inf\n",
      "[LightGBM] [Warning] No further splits with positive gain, best gain: -inf\n",
      "[LightGBM] [Warning] No further splits with positive gain, best gain: -inf\n",
      "[LightGBM] [Warning] No further splits with positive gain, best gain: -inf\n",
      "[LightGBM] [Warning] No further splits with positive gain, best gain: -inf\n",
      "[LightGBM] [Warning] No further splits with positive gain, best gain: -inf\n",
      "[LightGBM] [Warning] No further splits with positive gain, best gain: -inf\n",
      "[LightGBM] [Warning] No further splits with positive gain, best gain: -inf\n",
      "[LightGBM] [Warning] No further splits with positive gain, best gain: -inf\n",
      "[LightGBM] [Warning] No further splits with positive gain, best gain: -inf\n",
      "[LightGBM] [Warning] No further splits with positive gain, best gain: -inf\n",
      "[LightGBM] [Warning] No further splits with positive gain, best gain: -inf\n",
      "[LightGBM] [Warning] No further splits with positive gain, best gain: -inf\n",
      "[LightGBM] [Warning] No further splits with positive gain, best gain: -inf\n",
      "[LightGBM] [Warning] No further splits with positive gain, best gain: -inf\n",
      "[LightGBM] [Warning] No further splits with positive gain, best gain: -inf\n",
      "[LightGBM] [Warning] No further splits with positive gain, best gain: -inf\n",
      "[LightGBM] [Warning] No further splits with positive gain, best gain: -inf\n",
      "[LightGBM] [Warning] No further splits with positive gain, best gain: -inf\n",
      "[LightGBM] [Warning] No further splits with positive gain, best gain: -inf\n",
      "[LightGBM] [Warning] No further splits with positive gain, best gain: -inf\n",
      "[LightGBM] [Warning] No further splits with positive gain, best gain: -inf\n",
      "[LightGBM] [Warning] No further splits with positive gain, best gain: -inf\n",
      "[LightGBM] [Warning] No further splits with positive gain, best gain: -inf\n",
      "[LightGBM] [Warning] No further splits with positive gain, best gain: -inf\n",
      "[LightGBM] [Warning] No further splits with positive gain, best gain: -inf\n",
      "[LightGBM] [Warning] No further splits with positive gain, best gain: -inf\n",
      "[LightGBM] [Warning] No further splits with positive gain, best gain: -inf\n",
      "[LightGBM] [Warning] No further splits with positive gain, best gain: -inf\n",
      "[LightGBM] [Warning] No further splits with positive gain, best gain: -inf\n",
      "[LightGBM] [Warning] No further splits with positive gain, best gain: -inf\n",
      "[LightGBM] [Warning] No further splits with positive gain, best gain: -inf\n",
      "[LightGBM] [Warning] No further splits with positive gain, best gain: -inf\n",
      "Early stopping, best iteration is:\n",
      "[1]\tvalid_0's binary_logloss: 0.669103\tvalid_0's eer: 0\n",
      "[LightGBM] [Warning] feature_fraction is set=0.4898972858558973, colsample_bytree=1.0 will be ignored. Current value: feature_fraction=0.4898972858558973\n",
      "[LightGBM] [Warning] bagging_fraction is set=0.8025561629181218, subsample=1.0 will be ignored. Current value: bagging_fraction=0.8025561629181218\n",
      "| \u001B[95m2        \u001B[0m | \u001B[95m-3.846   \u001B[0m | \u001B[95m0.8026   \u001B[0m | \u001B[95m0.4899   \u001B[0m | \u001B[95m24.53    \u001B[0m | \u001B[95m22.76    \u001B[0m | \u001B[95m0.07327  \u001B[0m | \u001B[95m82.17    \u001B[0m |\n",
      "[LightGBM] [Warning] feature_fraction is set=0.7857233976582637, colsample_bytree=1.0 will be ignored. Current value: feature_fraction=0.7857233976582637\n",
      "[LightGBM] [Warning] bagging_fraction is set=0.9787808340570162, subsample=1.0 will be ignored. Current value: bagging_fraction=0.9787808340570162\n",
      "[LightGBM] [Warning] early_stopping_round is set=50, early_stopping_rounds=50 will be ignored. Current value: early_stopping_round=50\n",
      "[LightGBM] [Warning] feature_fraction is set=0.7857233976582637, colsample_bytree=1.0 will be ignored. Current value: feature_fraction=0.7857233976582637\n",
      "[LightGBM] [Warning] bagging_fraction is set=0.9787808340570162, subsample=1.0 will be ignored. Current value: bagging_fraction=0.9787808340570162\n",
      "[LightGBM] [Info] Number of positive: 742, number of negative: 818\n",
      "[LightGBM] [Warning] Auto-choosing col-wise multi-threading, the overhead of testing was 0.004679 seconds.\n",
      "You can set `force_col_wise=true` to remove the overhead.\n",
      "[LightGBM] [Info] Total Bins 45900\n",
      "[LightGBM] [Info] Number of data points in the train set: 1560, number of used features: 180\n",
      "[LightGBM] [Warning] feature_fraction is set=0.7857233976582637, colsample_bytree=1.0 will be ignored. Current value: feature_fraction=0.7857233976582637\n",
      "[LightGBM] [Warning] bagging_fraction is set=0.9787808340570162, subsample=1.0 will be ignored. Current value: bagging_fraction=0.9787808340570162\n",
      "[LightGBM] [Warning] early_stopping_round is set=50, early_stopping_rounds=50 will be ignored. Current value: early_stopping_round=50\n",
      "[LightGBM] [Info] [binary:BoostFromScore]: pavg=0.475641 -> initscore=-0.097513\n",
      "[LightGBM] [Info] Start training from score -0.097513\n",
      "[LightGBM] [Warning] No further splits with positive gain, best gain: -inf\n",
      "Training until validation scores don't improve for 50 rounds\n",
      "[LightGBM] [Warning] No further splits with positive gain, best gain: -inf\n",
      "[LightGBM] [Warning] No further splits with positive gain, best gain: -inf\n",
      "[LightGBM] [Warning] No further splits with positive gain, best gain: -inf\n",
      "[LightGBM] [Warning] No further splits with positive gain, best gain: -inf\n",
      "[LightGBM] [Warning] No further splits with positive gain, best gain: -inf\n",
      "[LightGBM] [Warning] No further splits with positive gain, best gain: -inf\n",
      "[LightGBM] [Warning] No further splits with positive gain, best gain: -inf\n",
      "[LightGBM] [Warning] No further splits with positive gain, best gain: -inf\n",
      "[LightGBM] [Warning] No further splits with positive gain, best gain: -inf\n",
      "[LightGBM] [Warning] No further splits with positive gain, best gain: -inf\n",
      "[LightGBM] [Warning] No further splits with positive gain, best gain: -inf\n",
      "[LightGBM] [Warning] No further splits with positive gain, best gain: -inf\n",
      "[LightGBM] [Warning] No further splits with positive gain, best gain: -inf\n",
      "[LightGBM] [Warning] No further splits with positive gain, best gain: -inf\n",
      "[LightGBM] [Warning] No further splits with positive gain, best gain: -inf\n",
      "[LightGBM] [Warning] No further splits with positive gain, best gain: -inf\n",
      "[LightGBM] [Warning] No further splits with positive gain, best gain: -inf\n",
      "[LightGBM] [Warning] No further splits with positive gain, best gain: -inf\n",
      "[LightGBM] [Warning] No further splits with positive gain, best gain: -inf\n",
      "[LightGBM] [Warning] No further splits with positive gain, best gain: -inf\n",
      "[LightGBM] [Warning] No further splits with positive gain, best gain: -inf\n",
      "[LightGBM] [Warning] No further splits with positive gain, best gain: -inf\n",
      "[LightGBM] [Warning] No further splits with positive gain, best gain: -inf\n",
      "[LightGBM] [Warning] No further splits with positive gain, best gain: -inf\n",
      "[LightGBM] [Warning] No further splits with positive gain, best gain: -inf\n",
      "[LightGBM] [Warning] No further splits with positive gain, best gain: -inf\n",
      "[LightGBM] [Warning] No further splits with positive gain, best gain: -inf\n",
      "[LightGBM] [Warning] No further splits with positive gain, best gain: -inf\n",
      "[LightGBM] [Warning] No further splits with positive gain, best gain: -inf\n",
      "[LightGBM] [Warning] No further splits with positive gain, best gain: -inf\n",
      "[LightGBM] [Warning] No further splits with positive gain, best gain: -inf\n",
      "[LightGBM] [Warning] No further splits with positive gain, best gain: -inf\n",
      "[LightGBM] [Warning] No further splits with positive gain, best gain: -inf\n",
      "[LightGBM] [Warning] No further splits with positive gain, best gain: -inf\n",
      "[LightGBM] [Warning] No further splits with positive gain, best gain: -inf\n",
      "[LightGBM] [Warning] No further splits with positive gain, best gain: -inf\n",
      "[LightGBM] [Warning] No further splits with positive gain, best gain: -inf\n",
      "[LightGBM] [Warning] No further splits with positive gain, best gain: -inf\n",
      "[LightGBM] [Warning] No further splits with positive gain, best gain: -inf\n",
      "[LightGBM] [Warning] No further splits with positive gain, best gain: -inf\n",
      "[LightGBM] [Warning] No further splits with positive gain, best gain: -inf\n",
      "[LightGBM] [Warning] No further splits with positive gain, best gain: -inf\n",
      "[LightGBM] [Warning] No further splits with positive gain, best gain: -inf\n",
      "[LightGBM] [Warning] No further splits with positive gain, best gain: -inf\n",
      "[LightGBM] [Warning] No further splits with positive gain, best gain: -inf\n",
      "[LightGBM] [Warning] No further splits with positive gain, best gain: -inf\n",
      "[LightGBM] [Warning] No further splits with positive gain, best gain: -inf\n",
      "[LightGBM] [Warning] No further splits with positive gain, best gain: -inf\n",
      "[LightGBM] [Warning] No further splits with positive gain, best gain: -inf\n",
      "[LightGBM] [Warning] No further splits with positive gain, best gain: -inf\n",
      "Early stopping, best iteration is:\n",
      "[1]\tvalid_0's binary_logloss: 0.667401\tvalid_0's eer: 0\n",
      "[LightGBM] [Warning] feature_fraction is set=0.7857233976582637, colsample_bytree=1.0 will be ignored. Current value: feature_fraction=0.7857233976582637\n",
      "[LightGBM] [Warning] bagging_fraction is set=0.9787808340570162, subsample=1.0 will be ignored. Current value: bagging_fraction=0.9787808340570162\n",
      "| \u001B[0m3        \u001B[0m | \u001B[0m-4.023   \u001B[0m | \u001B[0m0.9788   \u001B[0m | \u001B[0m0.7857   \u001B[0m | \u001B[0m18.32    \u001B[0m | \u001B[0m19.49    \u001B[0m | \u001B[0m0.003028 \u001B[0m | \u001B[0m82.33    \u001B[0m |\n",
      "[LightGBM] [Warning] feature_fraction is set=0.5499472469196528, colsample_bytree=1.0 will be ignored. Current value: feature_fraction=0.5499472469196528\n",
      "[LightGBM] [Warning] bagging_fraction is set=0.8374936209979136, subsample=1.0 will be ignored. Current value: bagging_fraction=0.8374936209979136\n",
      "[LightGBM] [Warning] early_stopping_round is set=50, early_stopping_rounds=50 will be ignored. Current value: early_stopping_round=50\n",
      "[LightGBM] [Warning] feature_fraction is set=0.5499472469196528, colsample_bytree=1.0 will be ignored. Current value: feature_fraction=0.5499472469196528\n",
      "[LightGBM] [Warning] bagging_fraction is set=0.8374936209979136, subsample=1.0 will be ignored. Current value: bagging_fraction=0.8374936209979136\n",
      "[LightGBM] [Info] Number of positive: 742, number of negative: 818\n",
      "[LightGBM] [Warning] Auto-choosing col-wise multi-threading, the overhead of testing was 0.002297 seconds.\n",
      "You can set `force_col_wise=true` to remove the overhead.\n",
      "[LightGBM] [Info] Total Bins 45900\n",
      "[LightGBM] [Info] Number of data points in the train set: 1560, number of used features: 180\n",
      "[LightGBM] [Warning] feature_fraction is set=0.5499472469196528, colsample_bytree=1.0 will be ignored. Current value: feature_fraction=0.5499472469196528\n",
      "[LightGBM] [Warning] bagging_fraction is set=0.8374936209979136, subsample=1.0 will be ignored. Current value: bagging_fraction=0.8374936209979136\n",
      "[LightGBM] [Warning] early_stopping_round is set=50, early_stopping_rounds=50 will be ignored. Current value: early_stopping_round=50\n",
      "[LightGBM] [Info] [binary:BoostFromScore]: pavg=0.475641 -> initscore=-0.097513\n",
      "[LightGBM] [Info] Start training from score -0.097513\n",
      "[LightGBM] [Warning] No further splits with positive gain, best gain: -inf\n",
      "Training until validation scores don't improve for 50 rounds\n",
      "[LightGBM] [Warning] No further splits with positive gain, best gain: -inf\n",
      "[LightGBM] [Warning] No further splits with positive gain, best gain: -inf\n",
      "[LightGBM] [Warning] No further splits with positive gain, best gain: -inf\n",
      "[LightGBM] [Warning] No further splits with positive gain, best gain: -inf\n",
      "[LightGBM] [Warning] No further splits with positive gain, best gain: -inf\n",
      "[LightGBM] [Warning] No further splits with positive gain, best gain: -inf\n",
      "[LightGBM] [Warning] No further splits with positive gain, best gain: -inf\n",
      "[LightGBM] [Warning] No further splits with positive gain, best gain: -inf\n",
      "[LightGBM] [Warning] No further splits with positive gain, best gain: -inf\n",
      "[LightGBM] [Warning] No further splits with positive gain, best gain: -inf\n",
      "[LightGBM] [Warning] No further splits with positive gain, best gain: -inf\n",
      "[LightGBM] [Warning] No further splits with positive gain, best gain: -inf\n",
      "[LightGBM] [Warning] No further splits with positive gain, best gain: -inf\n",
      "[LightGBM] [Warning] No further splits with positive gain, best gain: -inf\n",
      "[LightGBM] [Warning] No further splits with positive gain, best gain: -inf\n",
      "[LightGBM] [Warning] No further splits with positive gain, best gain: -inf\n",
      "[LightGBM] [Warning] No further splits with positive gain, best gain: -inf\n",
      "[LightGBM] [Warning] No further splits with positive gain, best gain: -inf\n",
      "[LightGBM] [Warning] No further splits with positive gain, best gain: -inf\n",
      "[LightGBM] [Warning] No further splits with positive gain, best gain: -inf\n",
      "[LightGBM] [Warning] No further splits with positive gain, best gain: -inf\n",
      "[LightGBM] [Warning] No further splits with positive gain, best gain: -inf\n",
      "[LightGBM] [Warning] No further splits with positive gain, best gain: -inf\n",
      "[LightGBM] [Warning] No further splits with positive gain, best gain: -inf\n",
      "[LightGBM] [Warning] No further splits with positive gain, best gain: -inf\n",
      "[LightGBM] [Warning] No further splits with positive gain, best gain: -inf\n",
      "[LightGBM] [Warning] No further splits with positive gain, best gain: -inf\n",
      "[LightGBM] [Warning] No further splits with positive gain, best gain: -inf\n",
      "[LightGBM] [Warning] No further splits with positive gain, best gain: -inf\n",
      "[LightGBM] [Warning] No further splits with positive gain, best gain: -inf\n",
      "[LightGBM] [Warning] No further splits with positive gain, best gain: -inf\n",
      "[LightGBM] [Warning] No further splits with positive gain, best gain: -inf\n",
      "[LightGBM] [Warning] No further splits with positive gain, best gain: -inf\n",
      "[LightGBM] [Warning] No further splits with positive gain, best gain: -inf\n",
      "[LightGBM] [Warning] No further splits with positive gain, best gain: -inf\n",
      "[LightGBM] [Warning] No further splits with positive gain, best gain: -inf\n",
      "[LightGBM] [Warning] No further splits with positive gain, best gain: -inf\n",
      "[LightGBM] [Warning] No further splits with positive gain, best gain: -inf\n",
      "[LightGBM] [Warning] No further splits with positive gain, best gain: -inf\n",
      "[LightGBM] [Warning] No further splits with positive gain, best gain: -inf\n",
      "[LightGBM] [Warning] No further splits with positive gain, best gain: -inf\n",
      "[LightGBM] [Warning] No further splits with positive gain, best gain: -inf\n",
      "[LightGBM] [Warning] No further splits with positive gain, best gain: -inf\n",
      "[LightGBM] [Warning] No further splits with positive gain, best gain: -inf\n",
      "[LightGBM] [Warning] No further splits with positive gain, best gain: -inf\n",
      "[LightGBM] [Warning] No further splits with positive gain, best gain: -inf\n",
      "[LightGBM] [Warning] No further splits with positive gain, best gain: -inf\n",
      "[LightGBM] [Warning] No further splits with positive gain, best gain: -inf\n",
      "[LightGBM] [Warning] No further splits with positive gain, best gain: -inf\n",
      "[LightGBM] [Warning] No further splits with positive gain, best gain: -inf\n",
      "Early stopping, best iteration is:\n",
      "[1]\tvalid_0's binary_logloss: 0.667822\tvalid_0's eer: 0\n",
      "[LightGBM] [Warning] feature_fraction is set=0.5499472469196528, colsample_bytree=1.0 will be ignored. Current value: feature_fraction=0.5499472469196528\n",
      "[LightGBM] [Warning] bagging_fraction is set=0.8374936209979136, subsample=1.0 will be ignored. Current value: bagging_fraction=0.8374936209979136\n",
      "| \u001B[0m4        \u001B[0m | \u001B[0m-4.311   \u001B[0m | \u001B[0m0.8375   \u001B[0m | \u001B[0m0.5499   \u001B[0m | \u001B[0m23.35    \u001B[0m | \u001B[0m22.13    \u001B[0m | \u001B[0m0.06164  \u001B[0m | \u001B[0m82.17    \u001B[0m |\n",
      "[LightGBM] [Warning] feature_fraction is set=0.3816470767836505, colsample_bytree=1.0 will be ignored. Current value: feature_fraction=0.3816470767836505\n",
      "[LightGBM] [Warning] bagging_fraction is set=0.933221577177754, subsample=1.0 will be ignored. Current value: bagging_fraction=0.933221577177754\n",
      "[LightGBM] [Warning] early_stopping_round is set=50, early_stopping_rounds=50 will be ignored. Current value: early_stopping_round=50\n",
      "[LightGBM] [Warning] feature_fraction is set=0.3816470767836505, colsample_bytree=1.0 will be ignored. Current value: feature_fraction=0.3816470767836505\n",
      "[LightGBM] [Warning] bagging_fraction is set=0.933221577177754, subsample=1.0 will be ignored. Current value: bagging_fraction=0.933221577177754\n",
      "[LightGBM] [Info] Number of positive: 742, number of negative: 818\n",
      "[LightGBM] [Warning] Auto-choosing col-wise multi-threading, the overhead of testing was 0.003717 seconds.\n",
      "You can set `force_col_wise=true` to remove the overhead.\n",
      "[LightGBM] [Info] Total Bins 45900\n",
      "[LightGBM] [Info] Number of data points in the train set: 1560, number of used features: 180\n",
      "[LightGBM] [Warning] feature_fraction is set=0.3816470767836505, colsample_bytree=1.0 will be ignored. Current value: feature_fraction=0.3816470767836505\n",
      "[LightGBM] [Warning] bagging_fraction is set=0.933221577177754, subsample=1.0 will be ignored. Current value: bagging_fraction=0.933221577177754\n",
      "[LightGBM] [Warning] early_stopping_round is set=50, early_stopping_rounds=50 will be ignored. Current value: early_stopping_round=50\n",
      "[LightGBM] [Info] [binary:BoostFromScore]: pavg=0.475641 -> initscore=-0.097513\n",
      "[LightGBM] [Info] Start training from score -0.097513\n",
      "[LightGBM] [Warning] No further splits with positive gain, best gain: -inf\n",
      "Training until validation scores don't improve for 50 rounds\n",
      "[LightGBM] [Warning] No further splits with positive gain, best gain: -inf\n",
      "[LightGBM] [Warning] No further splits with positive gain, best gain: -inf\n",
      "[LightGBM] [Warning] No further splits with positive gain, best gain: -inf\n",
      "[LightGBM] [Warning] No further splits with positive gain, best gain: -inf\n",
      "[LightGBM] [Warning] No further splits with positive gain, best gain: -inf\n",
      "[LightGBM] [Warning] No further splits with positive gain, best gain: -inf\n",
      "[LightGBM] [Warning] No further splits with positive gain, best gain: -inf\n",
      "[LightGBM] [Warning] No further splits with positive gain, best gain: -inf\n",
      "[LightGBM] [Warning] No further splits with positive gain, best gain: -inf\n",
      "[LightGBM] [Warning] No further splits with positive gain, best gain: -inf\n",
      "[LightGBM] [Warning] No further splits with positive gain, best gain: -inf\n",
      "[LightGBM] [Warning] No further splits with positive gain, best gain: -inf\n",
      "[LightGBM] [Warning] No further splits with positive gain, best gain: -inf\n",
      "[LightGBM] [Warning] No further splits with positive gain, best gain: -inf\n",
      "[LightGBM] [Warning] No further splits with positive gain, best gain: -inf\n",
      "[LightGBM] [Warning] No further splits with positive gain, best gain: -inf\n",
      "[LightGBM] [Warning] No further splits with positive gain, best gain: -inf\n",
      "[LightGBM] [Warning] No further splits with positive gain, best gain: -inf\n",
      "[LightGBM] [Warning] No further splits with positive gain, best gain: -inf\n",
      "[LightGBM] [Warning] No further splits with positive gain, best gain: -inf\n",
      "[LightGBM] [Warning] No further splits with positive gain, best gain: -inf\n",
      "[LightGBM] [Warning] No further splits with positive gain, best gain: -inf\n",
      "[LightGBM] [Warning] No further splits with positive gain, best gain: -inf\n",
      "[LightGBM] [Warning] No further splits with positive gain, best gain: -inf\n",
      "[LightGBM] [Warning] No further splits with positive gain, best gain: -inf\n",
      "[LightGBM] [Warning] No further splits with positive gain, best gain: -inf\n",
      "[LightGBM] [Warning] No further splits with positive gain, best gain: -inf\n",
      "[LightGBM] [Warning] No further splits with positive gain, best gain: -inf\n",
      "[LightGBM] [Warning] No further splits with positive gain, best gain: -inf\n",
      "[LightGBM] [Warning] No further splits with positive gain, best gain: -inf\n",
      "[LightGBM] [Warning] No further splits with positive gain, best gain: -inf\n",
      "[LightGBM] [Warning] No further splits with positive gain, best gain: -inf\n",
      "[LightGBM] [Warning] No further splits with positive gain, best gain: -inf\n",
      "[LightGBM] [Warning] No further splits with positive gain, best gain: -inf\n",
      "[LightGBM] [Warning] No further splits with positive gain, best gain: -inf\n",
      "[LightGBM] [Warning] No further splits with positive gain, best gain: -inf\n",
      "[LightGBM] [Warning] No further splits with positive gain, best gain: -inf\n",
      "[LightGBM] [Warning] No further splits with positive gain, best gain: -inf\n",
      "[LightGBM] [Warning] No further splits with positive gain, best gain: -inf\n",
      "[LightGBM] [Warning] No further splits with positive gain, best gain: -inf\n",
      "[LightGBM] [Warning] No further splits with positive gain, best gain: -inf\n",
      "[LightGBM] [Warning] No further splits with positive gain, best gain: -inf\n",
      "[LightGBM] [Warning] No further splits with positive gain, best gain: -inf\n",
      "[LightGBM] [Warning] No further splits with positive gain, best gain: -inf\n",
      "[LightGBM] [Warning] No further splits with positive gain, best gain: -inf\n",
      "[LightGBM] [Warning] No further splits with positive gain, best gain: -inf\n",
      "[LightGBM] [Warning] No further splits with positive gain, best gain: -inf\n",
      "[LightGBM] [Warning] No further splits with positive gain, best gain: -inf\n",
      "[LightGBM] [Warning] No further splits with positive gain, best gain: -inf\n",
      "[LightGBM] [Warning] No further splits with positive gain, best gain: -inf\n",
      "Early stopping, best iteration is:\n",
      "[1]\tvalid_0's binary_logloss: 0.667404\tvalid_0's eer: 0\n",
      "[LightGBM] [Warning] feature_fraction is set=0.3816470767836505, colsample_bytree=1.0 will be ignored. Current value: feature_fraction=0.3816470767836505\n",
      "[LightGBM] [Warning] bagging_fraction is set=0.933221577177754, subsample=1.0 will be ignored. Current value: bagging_fraction=0.933221577177754\n",
      "| \u001B[0m5        \u001B[0m | \u001B[0m-5.061   \u001B[0m | \u001B[0m0.9332   \u001B[0m | \u001B[0m0.3816   \u001B[0m | \u001B[0m18.37    \u001B[0m | \u001B[0m11.78    \u001B[0m | \u001B[0m0.0804   \u001B[0m | \u001B[0m88.31    \u001B[0m |\n",
      "[LightGBM] [Warning] feature_fraction is set=0.20396587527646384, colsample_bytree=1.0 will be ignored. Current value: feature_fraction=0.20396587527646384\n",
      "[LightGBM] [Warning] bagging_fraction is set=0.9538831914427439, subsample=1.0 will be ignored. Current value: bagging_fraction=0.9538831914427439\n",
      "[LightGBM] [Warning] early_stopping_round is set=50, early_stopping_rounds=50 will be ignored. Current value: early_stopping_round=50\n",
      "[LightGBM] [Warning] feature_fraction is set=0.20396587527646384, colsample_bytree=1.0 will be ignored. Current value: feature_fraction=0.20396587527646384\n",
      "[LightGBM] [Warning] bagging_fraction is set=0.9538831914427439, subsample=1.0 will be ignored. Current value: bagging_fraction=0.9538831914427439\n",
      "[LightGBM] [Info] Number of positive: 742, number of negative: 818\n",
      "[LightGBM] [Warning] Auto-choosing col-wise multi-threading, the overhead of testing was 0.002787 seconds.\n",
      "You can set `force_col_wise=true` to remove the overhead.\n",
      "[LightGBM] [Info] Total Bins 45900\n",
      "[LightGBM] [Info] Number of data points in the train set: 1560, number of used features: 180\n",
      "[LightGBM] [Warning] feature_fraction is set=0.20396587527646384, colsample_bytree=1.0 will be ignored. Current value: feature_fraction=0.20396587527646384\n",
      "[LightGBM] [Warning] bagging_fraction is set=0.9538831914427439, subsample=1.0 will be ignored. Current value: bagging_fraction=0.9538831914427439\n",
      "[LightGBM] [Warning] early_stopping_round is set=50, early_stopping_rounds=50 will be ignored. Current value: early_stopping_round=50\n",
      "[LightGBM] [Info] [binary:BoostFromScore]: pavg=0.475641 -> initscore=-0.097513\n",
      "[LightGBM] [Info] Start training from score -0.097513\n",
      "[LightGBM] [Warning] No further splits with positive gain, best gain: -inf\n",
      "Training until validation scores don't improve for 50 rounds\n",
      "[LightGBM] [Warning] No further splits with positive gain, best gain: -inf\n",
      "[LightGBM] [Warning] No further splits with positive gain, best gain: -inf\n",
      "[LightGBM] [Warning] No further splits with positive gain, best gain: -inf\n",
      "[LightGBM] [Warning] No further splits with positive gain, best gain: -inf\n",
      "[LightGBM] [Warning] No further splits with positive gain, best gain: -inf\n",
      "[LightGBM] [Warning] No further splits with positive gain, best gain: -inf\n",
      "[LightGBM] [Warning] No further splits with positive gain, best gain: -inf\n",
      "[LightGBM] [Warning] No further splits with positive gain, best gain: -inf\n",
      "[LightGBM] [Warning] No further splits with positive gain, best gain: -inf\n",
      "[LightGBM] [Warning] No further splits with positive gain, best gain: -inf\n",
      "[LightGBM] [Warning] No further splits with positive gain, best gain: -inf\n",
      "[LightGBM] [Warning] No further splits with positive gain, best gain: -inf\n",
      "[LightGBM] [Warning] No further splits with positive gain, best gain: -inf\n",
      "[LightGBM] [Warning] No further splits with positive gain, best gain: -inf\n",
      "[LightGBM] [Warning] No further splits with positive gain, best gain: -inf\n",
      "[LightGBM] [Warning] No further splits with positive gain, best gain: -inf\n",
      "[LightGBM] [Warning] No further splits with positive gain, best gain: -inf\n",
      "[LightGBM] [Warning] No further splits with positive gain, best gain: -inf\n",
      "[LightGBM] [Warning] No further splits with positive gain, best gain: -inf\n",
      "[LightGBM] [Warning] No further splits with positive gain, best gain: -inf\n",
      "[LightGBM] [Warning] No further splits with positive gain, best gain: -inf\n",
      "[LightGBM] [Warning] No further splits with positive gain, best gain: -inf\n",
      "[LightGBM] [Warning] No further splits with positive gain, best gain: -inf\n",
      "[LightGBM] [Warning] No further splits with positive gain, best gain: -inf\n",
      "[LightGBM] [Warning] No further splits with positive gain, best gain: -inf\n",
      "[LightGBM] [Warning] No further splits with positive gain, best gain: -inf\n",
      "[LightGBM] [Warning] No further splits with positive gain, best gain: -inf\n",
      "[LightGBM] [Warning] No further splits with positive gain, best gain: -inf\n",
      "[LightGBM] [Warning] No further splits with positive gain, best gain: -inf\n",
      "[LightGBM] [Warning] No further splits with positive gain, best gain: -inf\n",
      "[LightGBM] [Warning] No further splits with positive gain, best gain: -inf\n",
      "[LightGBM] [Warning] No further splits with positive gain, best gain: -inf\n",
      "[LightGBM] [Warning] No further splits with positive gain, best gain: -inf\n",
      "[LightGBM] [Warning] No further splits with positive gain, best gain: -inf\n",
      "[LightGBM] [Warning] No further splits with positive gain, best gain: -inf\n",
      "[LightGBM] [Warning] No further splits with positive gain, best gain: -inf\n",
      "[LightGBM] [Warning] No further splits with positive gain, best gain: -inf\n",
      "[LightGBM] [Warning] No further splits with positive gain, best gain: -inf\n",
      "[LightGBM] [Warning] No further splits with positive gain, best gain: -inf\n",
      "[LightGBM] [Warning] No further splits with positive gain, best gain: -inf\n",
      "[LightGBM] [Warning] No further splits with positive gain, best gain: -inf\n",
      "[LightGBM] [Warning] No further splits with positive gain, best gain: -inf\n",
      "[LightGBM] [Warning] No further splits with positive gain, best gain: -inf\n",
      "[LightGBM] [Warning] No further splits with positive gain, best gain: -inf\n",
      "[LightGBM] [Warning] No further splits with positive gain, best gain: -inf\n",
      "[LightGBM] [Warning] No further splits with positive gain, best gain: -inf\n",
      "[LightGBM] [Warning] No further splits with positive gain, best gain: -inf\n",
      "[LightGBM] [Warning] No further splits with positive gain, best gain: -inf\n",
      "[LightGBM] [Warning] No further splits with positive gain, best gain: -inf\n",
      "[LightGBM] [Warning] No further splits with positive gain, best gain: -inf\n",
      "Early stopping, best iteration is:\n",
      "[1]\tvalid_0's binary_logloss: 0.674289\tvalid_0's eer: 0\n",
      "[LightGBM] [Warning] feature_fraction is set=0.20396587527646384, colsample_bytree=1.0 will be ignored. Current value: feature_fraction=0.20396587527646384\n",
      "[LightGBM] [Warning] bagging_fraction is set=0.9538831914427439, subsample=1.0 will be ignored. Current value: bagging_fraction=0.9538831914427439\n",
      "| \u001B[0m6        \u001B[0m | \u001B[0m-5.722   \u001B[0m | \u001B[0m0.9539   \u001B[0m | \u001B[0m0.204    \u001B[0m | \u001B[0m24.4     \u001B[0m | \u001B[0m23.43    \u001B[0m | \u001B[0m0.03039  \u001B[0m | \u001B[0m81.31    \u001B[0m |\n",
      "[LightGBM] [Warning] feature_fraction is set=0.673055393778999, colsample_bytree=1.0 will be ignored. Current value: feature_fraction=0.673055393778999\n",
      "[LightGBM] [Warning] bagging_fraction is set=0.8099165871862156, subsample=1.0 will be ignored. Current value: bagging_fraction=0.8099165871862156\n",
      "[LightGBM] [Warning] early_stopping_round is set=50, early_stopping_rounds=50 will be ignored. Current value: early_stopping_round=50\n",
      "[LightGBM] [Warning] feature_fraction is set=0.673055393778999, colsample_bytree=1.0 will be ignored. Current value: feature_fraction=0.673055393778999\n",
      "[LightGBM] [Warning] bagging_fraction is set=0.8099165871862156, subsample=1.0 will be ignored. Current value: bagging_fraction=0.8099165871862156\n",
      "[LightGBM] [Info] Number of positive: 742, number of negative: 818\n",
      "[LightGBM] [Warning] Auto-choosing col-wise multi-threading, the overhead of testing was 0.007257 seconds.\n",
      "You can set `force_col_wise=true` to remove the overhead.\n",
      "[LightGBM] [Info] Total Bins 45900\n",
      "[LightGBM] [Info] Number of data points in the train set: 1560, number of used features: 180\n",
      "[LightGBM] [Warning] feature_fraction is set=0.673055393778999, colsample_bytree=1.0 will be ignored. Current value: feature_fraction=0.673055393778999\n",
      "[LightGBM] [Warning] bagging_fraction is set=0.8099165871862156, subsample=1.0 will be ignored. Current value: bagging_fraction=0.8099165871862156\n",
      "[LightGBM] [Warning] early_stopping_round is set=50, early_stopping_rounds=50 will be ignored. Current value: early_stopping_round=50\n",
      "[LightGBM] [Info] [binary:BoostFromScore]: pavg=0.475641 -> initscore=-0.097513\n",
      "[LightGBM] [Info] Start training from score -0.097513\n",
      "[LightGBM] [Warning] No further splits with positive gain, best gain: -inf\n",
      "Training until validation scores don't improve for 50 rounds\n",
      "[LightGBM] [Warning] No further splits with positive gain, best gain: -inf\n",
      "[LightGBM] [Warning] No further splits with positive gain, best gain: -inf\n",
      "[LightGBM] [Warning] No further splits with positive gain, best gain: -inf\n",
      "[LightGBM] [Warning] No further splits with positive gain, best gain: -inf\n",
      "[LightGBM] [Warning] No further splits with positive gain, best gain: -inf\n",
      "[LightGBM] [Warning] No further splits with positive gain, best gain: -inf\n",
      "[LightGBM] [Warning] No further splits with positive gain, best gain: -inf\n",
      "[LightGBM] [Warning] No further splits with positive gain, best gain: -inf\n",
      "[LightGBM] [Warning] No further splits with positive gain, best gain: -inf\n",
      "[LightGBM] [Warning] No further splits with positive gain, best gain: -inf\n",
      "[LightGBM] [Warning] No further splits with positive gain, best gain: -inf\n",
      "[LightGBM] [Warning] No further splits with positive gain, best gain: -inf\n",
      "[LightGBM] [Warning] No further splits with positive gain, best gain: -inf\n",
      "[LightGBM] [Warning] No further splits with positive gain, best gain: -inf\n",
      "[LightGBM] [Warning] No further splits with positive gain, best gain: -inf\n",
      "[LightGBM] [Warning] No further splits with positive gain, best gain: -inf\n",
      "[LightGBM] [Warning] No further splits with positive gain, best gain: -inf\n",
      "[LightGBM] [Warning] No further splits with positive gain, best gain: -inf\n",
      "[LightGBM] [Warning] No further splits with positive gain, best gain: -inf\n",
      "[LightGBM] [Warning] No further splits with positive gain, best gain: -inf\n",
      "[LightGBM] [Warning] No further splits with positive gain, best gain: -inf\n",
      "[LightGBM] [Warning] No further splits with positive gain, best gain: -inf\n",
      "[LightGBM] [Warning] No further splits with positive gain, best gain: -inf\n",
      "[LightGBM] [Warning] No further splits with positive gain, best gain: -inf\n",
      "[LightGBM] [Warning] No further splits with positive gain, best gain: -inf\n",
      "[LightGBM] [Warning] No further splits with positive gain, best gain: -inf\n",
      "[LightGBM] [Warning] No further splits with positive gain, best gain: -inf\n",
      "[LightGBM] [Warning] No further splits with positive gain, best gain: -inf\n",
      "[LightGBM] [Warning] No further splits with positive gain, best gain: -inf\n",
      "[LightGBM] [Warning] No further splits with positive gain, best gain: -inf\n",
      "[LightGBM] [Warning] No further splits with positive gain, best gain: -inf\n",
      "[LightGBM] [Warning] No further splits with positive gain, best gain: -inf\n",
      "[LightGBM] [Warning] No further splits with positive gain, best gain: -inf\n",
      "[LightGBM] [Warning] No further splits with positive gain, best gain: -inf\n",
      "[LightGBM] [Warning] No further splits with positive gain, best gain: -inf\n",
      "[LightGBM] [Warning] No further splits with positive gain, best gain: -inf\n",
      "[LightGBM] [Warning] No further splits with positive gain, best gain: -inf\n",
      "[LightGBM] [Warning] No further splits with positive gain, best gain: -inf\n",
      "[LightGBM] [Warning] No further splits with positive gain, best gain: -inf\n",
      "[LightGBM] [Warning] No further splits with positive gain, best gain: -inf\n",
      "[LightGBM] [Warning] No further splits with positive gain, best gain: -inf\n",
      "[LightGBM] [Warning] No further splits with positive gain, best gain: -inf\n",
      "[LightGBM] [Warning] No further splits with positive gain, best gain: -inf\n",
      "[LightGBM] [Warning] No further splits with positive gain, best gain: -inf\n",
      "[LightGBM] [Warning] No further splits with positive gain, best gain: -inf\n",
      "[LightGBM] [Warning] No further splits with positive gain, best gain: -inf\n",
      "[LightGBM] [Warning] No further splits with positive gain, best gain: -inf\n",
      "[LightGBM] [Warning] No further splits with positive gain, best gain: -inf\n",
      "[LightGBM] [Warning] No further splits with positive gain, best gain: -inf\n",
      "[LightGBM] [Warning] No further splits with positive gain, best gain: -inf\n",
      "Early stopping, best iteration is:\n",
      "[1]\tvalid_0's binary_logloss: 0.668529\tvalid_0's eer: 0\n",
      "[LightGBM] [Warning] feature_fraction is set=0.673055393778999, colsample_bytree=1.0 will be ignored. Current value: feature_fraction=0.673055393778999\n",
      "[LightGBM] [Warning] bagging_fraction is set=0.8099165871862156, subsample=1.0 will be ignored. Current value: bagging_fraction=0.8099165871862156\n",
      "| \u001B[0m7        \u001B[0m | \u001B[0m-4.253   \u001B[0m | \u001B[0m0.8099   \u001B[0m | \u001B[0m0.6731   \u001B[0m | \u001B[0m23.1     \u001B[0m | \u001B[0m22.14    \u001B[0m | \u001B[0m0.09681  \u001B[0m | \u001B[0m82.42    \u001B[0m |\n",
      "[LightGBM] [Warning] feature_fraction is set=0.7353858333083934, colsample_bytree=1.0 will be ignored. Current value: feature_fraction=0.7353858333083934\n",
      "[LightGBM] [Warning] bagging_fraction is set=0.8415132450501229, subsample=1.0 will be ignored. Current value: bagging_fraction=0.8415132450501229\n",
      "[LightGBM] [Warning] early_stopping_round is set=50, early_stopping_rounds=50 will be ignored. Current value: early_stopping_round=50\n",
      "[LightGBM] [Warning] feature_fraction is set=0.7353858333083934, colsample_bytree=1.0 will be ignored. Current value: feature_fraction=0.7353858333083934\n",
      "[LightGBM] [Warning] bagging_fraction is set=0.8415132450501229, subsample=1.0 will be ignored. Current value: bagging_fraction=0.8415132450501229\n",
      "[LightGBM] [Info] Number of positive: 742, number of negative: 818\n",
      "[LightGBM] [Warning] Auto-choosing col-wise multi-threading, the overhead of testing was 0.011292 seconds.\n",
      "You can set `force_col_wise=true` to remove the overhead.\n",
      "[LightGBM] [Info] Total Bins 45900\n",
      "[LightGBM] [Info] Number of data points in the train set: 1560, number of used features: 180\n",
      "[LightGBM] [Warning] feature_fraction is set=0.7353858333083934, colsample_bytree=1.0 will be ignored. Current value: feature_fraction=0.7353858333083934\n",
      "[LightGBM] [Warning] bagging_fraction is set=0.8415132450501229, subsample=1.0 will be ignored. Current value: bagging_fraction=0.8415132450501229\n",
      "[LightGBM] [Warning] early_stopping_round is set=50, early_stopping_rounds=50 will be ignored. Current value: early_stopping_round=50\n",
      "[LightGBM] [Info] [binary:BoostFromScore]: pavg=0.475641 -> initscore=-0.097513\n",
      "[LightGBM] [Info] Start training from score -0.097513\n",
      "[LightGBM] [Warning] No further splits with positive gain, best gain: -inf\n",
      "Training until validation scores don't improve for 50 rounds\n",
      "[LightGBM] [Warning] No further splits with positive gain, best gain: -inf\n",
      "[LightGBM] [Warning] No further splits with positive gain, best gain: -inf\n",
      "[LightGBM] [Warning] No further splits with positive gain, best gain: -inf\n",
      "[LightGBM] [Warning] No further splits with positive gain, best gain: -inf\n",
      "[LightGBM] [Warning] No further splits with positive gain, best gain: -inf\n",
      "[LightGBM] [Warning] No further splits with positive gain, best gain: -inf\n",
      "[LightGBM] [Warning] No further splits with positive gain, best gain: -inf\n",
      "[LightGBM] [Warning] No further splits with positive gain, best gain: -inf\n",
      "[LightGBM] [Warning] No further splits with positive gain, best gain: -inf\n",
      "[LightGBM] [Warning] No further splits with positive gain, best gain: -inf\n",
      "[LightGBM] [Warning] No further splits with positive gain, best gain: -inf\n",
      "[LightGBM] [Warning] No further splits with positive gain, best gain: -inf\n",
      "[LightGBM] [Warning] No further splits with positive gain, best gain: -inf\n",
      "[LightGBM] [Warning] No further splits with positive gain, best gain: -inf\n",
      "[LightGBM] [Warning] No further splits with positive gain, best gain: -inf\n",
      "[LightGBM] [Warning] No further splits with positive gain, best gain: -inf\n",
      "[LightGBM] [Warning] No further splits with positive gain, best gain: -inf\n",
      "[LightGBM] [Warning] No further splits with positive gain, best gain: -inf\n",
      "[LightGBM] [Warning] No further splits with positive gain, best gain: -inf\n",
      "[LightGBM] [Warning] No further splits with positive gain, best gain: -inf\n",
      "[LightGBM] [Warning] No further splits with positive gain, best gain: -inf\n",
      "[LightGBM] [Warning] No further splits with positive gain, best gain: -inf\n",
      "[LightGBM] [Warning] No further splits with positive gain, best gain: -inf\n",
      "[LightGBM] [Warning] No further splits with positive gain, best gain: -inf\n",
      "[LightGBM] [Warning] No further splits with positive gain, best gain: -inf\n",
      "[LightGBM] [Warning] No further splits with positive gain, best gain: -inf\n",
      "[LightGBM] [Warning] No further splits with positive gain, best gain: -inf\n",
      "[LightGBM] [Warning] No further splits with positive gain, best gain: -inf\n",
      "[LightGBM] [Warning] No further splits with positive gain, best gain: -inf\n",
      "[LightGBM] [Warning] No further splits with positive gain, best gain: -inf\n",
      "[LightGBM] [Warning] No further splits with positive gain, best gain: -inf\n",
      "[LightGBM] [Warning] No further splits with positive gain, best gain: -inf\n",
      "[LightGBM] [Warning] No further splits with positive gain, best gain: -inf\n",
      "[LightGBM] [Warning] No further splits with positive gain, best gain: -inf\n",
      "[LightGBM] [Warning] No further splits with positive gain, best gain: -inf\n",
      "[LightGBM] [Warning] No further splits with positive gain, best gain: -inf\n",
      "[LightGBM] [Warning] No further splits with positive gain, best gain: -inf\n",
      "[LightGBM] [Warning] No further splits with positive gain, best gain: -inf\n",
      "[LightGBM] [Warning] No further splits with positive gain, best gain: -inf\n",
      "[LightGBM] [Warning] No further splits with positive gain, best gain: -inf\n",
      "[LightGBM] [Warning] No further splits with positive gain, best gain: -inf\n",
      "[LightGBM] [Warning] No further splits with positive gain, best gain: -inf\n",
      "[LightGBM] [Warning] No further splits with positive gain, best gain: -inf\n",
      "[LightGBM] [Warning] No further splits with positive gain, best gain: -inf\n",
      "[LightGBM] [Warning] No further splits with positive gain, best gain: -inf\n",
      "[LightGBM] [Warning] No further splits with positive gain, best gain: -inf\n",
      "[LightGBM] [Warning] No further splits with positive gain, best gain: -inf\n",
      "[LightGBM] [Warning] No further splits with positive gain, best gain: -inf\n",
      "[LightGBM] [Warning] No further splits with positive gain, best gain: -inf\n",
      "[LightGBM] [Warning] No further splits with positive gain, best gain: -inf\n",
      "Early stopping, best iteration is:\n",
      "[1]\tvalid_0's binary_logloss: 0.668721\tvalid_0's eer: 0\n",
      "[LightGBM] [Warning] feature_fraction is set=0.7353858333083934, colsample_bytree=1.0 will be ignored. Current value: feature_fraction=0.7353858333083934\n",
      "[LightGBM] [Warning] bagging_fraction is set=0.8415132450501229, subsample=1.0 will be ignored. Current value: bagging_fraction=0.8415132450501229\n",
      "| \u001B[0m8        \u001B[0m | \u001B[0m-3.888   \u001B[0m | \u001B[0m0.8415   \u001B[0m | \u001B[0m0.7354   \u001B[0m | \u001B[0m23.05    \u001B[0m | \u001B[0m22.23    \u001B[0m | \u001B[0m0.02872  \u001B[0m | \u001B[0m82.23    \u001B[0m |\n",
      "[LightGBM] [Warning] feature_fraction is set=0.16925223123104038, colsample_bytree=1.0 will be ignored. Current value: feature_fraction=0.16925223123104038\n",
      "[LightGBM] [Warning] bagging_fraction is set=0.8334728647548988, subsample=1.0 will be ignored. Current value: bagging_fraction=0.8334728647548988\n",
      "[LightGBM] [Warning] early_stopping_round is set=50, early_stopping_rounds=50 will be ignored. Current value: early_stopping_round=50\n",
      "[LightGBM] [Warning] feature_fraction is set=0.16925223123104038, colsample_bytree=1.0 will be ignored. Current value: feature_fraction=0.16925223123104038\n",
      "[LightGBM] [Warning] bagging_fraction is set=0.8334728647548988, subsample=1.0 will be ignored. Current value: bagging_fraction=0.8334728647548988\n",
      "[LightGBM] [Info] Number of positive: 742, number of negative: 818\n",
      "[LightGBM] [Warning] Auto-choosing col-wise multi-threading, the overhead of testing was 0.002731 seconds.\n",
      "You can set `force_col_wise=true` to remove the overhead.\n",
      "[LightGBM] [Info] Total Bins 45900\n",
      "[LightGBM] [Info] Number of data points in the train set: 1560, number of used features: 180\n",
      "[LightGBM] [Warning] feature_fraction is set=0.16925223123104038, colsample_bytree=1.0 will be ignored. Current value: feature_fraction=0.16925223123104038\n",
      "[LightGBM] [Warning] bagging_fraction is set=0.8334728647548988, subsample=1.0 will be ignored. Current value: bagging_fraction=0.8334728647548988\n",
      "[LightGBM] [Warning] early_stopping_round is set=50, early_stopping_rounds=50 will be ignored. Current value: early_stopping_round=50\n",
      "[LightGBM] [Info] [binary:BoostFromScore]: pavg=0.475641 -> initscore=-0.097513\n",
      "[LightGBM] [Info] Start training from score -0.097513\n",
      "[LightGBM] [Warning] No further splits with positive gain, best gain: -inf\n",
      "Training until validation scores don't improve for 50 rounds\n",
      "[LightGBM] [Warning] No further splits with positive gain, best gain: -inf\n",
      "[LightGBM] [Warning] No further splits with positive gain, best gain: -inf\n",
      "[LightGBM] [Warning] No further splits with positive gain, best gain: -inf\n",
      "[LightGBM] [Warning] No further splits with positive gain, best gain: -inf\n",
      "[LightGBM] [Warning] No further splits with positive gain, best gain: -inf\n",
      "[LightGBM] [Warning] No further splits with positive gain, best gain: -inf\n",
      "[LightGBM] [Warning] No further splits with positive gain, best gain: -inf\n",
      "[LightGBM] [Warning] No further splits with positive gain, best gain: -inf\n",
      "[LightGBM] [Warning] No further splits with positive gain, best gain: -inf\n",
      "[LightGBM] [Warning] No further splits with positive gain, best gain: -inf\n",
      "[LightGBM] [Warning] No further splits with positive gain, best gain: -inf\n",
      "[LightGBM] [Warning] No further splits with positive gain, best gain: -inf\n",
      "[LightGBM] [Warning] No further splits with positive gain, best gain: -inf\n",
      "[LightGBM] [Warning] No further splits with positive gain, best gain: -inf\n",
      "[LightGBM] [Warning] No further splits with positive gain, best gain: -inf\n",
      "[LightGBM] [Warning] No further splits with positive gain, best gain: -inf\n",
      "[LightGBM] [Warning] No further splits with positive gain, best gain: -inf\n",
      "[LightGBM] [Warning] No further splits with positive gain, best gain: -inf\n",
      "[LightGBM] [Warning] No further splits with positive gain, best gain: -inf\n",
      "[LightGBM] [Warning] No further splits with positive gain, best gain: -inf\n",
      "[LightGBM] [Warning] No further splits with positive gain, best gain: -inf\n",
      "[LightGBM] [Warning] No further splits with positive gain, best gain: -inf\n",
      "[LightGBM] [Warning] No further splits with positive gain, best gain: -inf\n",
      "[LightGBM] [Warning] No further splits with positive gain, best gain: -inf\n",
      "[LightGBM] [Warning] No further splits with positive gain, best gain: -inf\n",
      "[LightGBM] [Warning] No further splits with positive gain, best gain: -inf\n",
      "[LightGBM] [Warning] No further splits with positive gain, best gain: -inf\n",
      "[LightGBM] [Warning] No further splits with positive gain, best gain: -inf\n",
      "[LightGBM] [Warning] No further splits with positive gain, best gain: -inf\n",
      "[LightGBM] [Warning] No further splits with positive gain, best gain: -inf\n",
      "[LightGBM] [Warning] No further splits with positive gain, best gain: -inf\n",
      "[LightGBM] [Warning] No further splits with positive gain, best gain: -inf\n",
      "[LightGBM] [Warning] No further splits with positive gain, best gain: -inf\n",
      "[LightGBM] [Warning] No further splits with positive gain, best gain: -inf\n",
      "[LightGBM] [Warning] No further splits with positive gain, best gain: -inf\n",
      "[LightGBM] [Warning] No further splits with positive gain, best gain: -inf\n",
      "[LightGBM] [Warning] No further splits with positive gain, best gain: -inf\n",
      "[LightGBM] [Warning] No further splits with positive gain, best gain: -inf\n",
      "[LightGBM] [Warning] No further splits with positive gain, best gain: -inf\n",
      "[LightGBM] [Warning] No further splits with positive gain, best gain: -inf\n",
      "[LightGBM] [Warning] No further splits with positive gain, best gain: -inf\n",
      "[LightGBM] [Warning] No further splits with positive gain, best gain: -inf\n",
      "[LightGBM] [Warning] No further splits with positive gain, best gain: -inf\n",
      "[LightGBM] [Warning] No further splits with positive gain, best gain: -inf\n",
      "[LightGBM] [Warning] No further splits with positive gain, best gain: -inf\n",
      "[LightGBM] [Warning] No further splits with positive gain, best gain: -inf\n",
      "[LightGBM] [Warning] No further splits with positive gain, best gain: -inf\n",
      "[LightGBM] [Warning] No further splits with positive gain, best gain: -inf\n",
      "[LightGBM] [Warning] No further splits with positive gain, best gain: -inf\n",
      "[LightGBM] [Warning] No further splits with positive gain, best gain: -inf\n",
      "Early stopping, best iteration is:\n",
      "[1]\tvalid_0's binary_logloss: 0.674648\tvalid_0's eer: 0\n",
      "[LightGBM] [Warning] feature_fraction is set=0.16925223123104038, colsample_bytree=1.0 will be ignored. Current value: feature_fraction=0.16925223123104038\n",
      "[LightGBM] [Warning] bagging_fraction is set=0.8334728647548988, subsample=1.0 will be ignored. Current value: bagging_fraction=0.8334728647548988\n",
      "| \u001B[0m9        \u001B[0m | \u001B[0m-6.034   \u001B[0m | \u001B[0m0.8335   \u001B[0m | \u001B[0m0.1693   \u001B[0m | \u001B[0m24.69    \u001B[0m | \u001B[0m22.4     \u001B[0m | \u001B[0m0.07886  \u001B[0m | \u001B[0m82.08    \u001B[0m |\n",
      "[LightGBM] [Warning] feature_fraction is set=0.4216281284504694, colsample_bytree=1.0 will be ignored. Current value: feature_fraction=0.4216281284504694\n",
      "[LightGBM] [Warning] bagging_fraction is set=0.8246575087497517, subsample=1.0 will be ignored. Current value: bagging_fraction=0.8246575087497517\n",
      "[LightGBM] [Warning] early_stopping_round is set=50, early_stopping_rounds=50 will be ignored. Current value: early_stopping_round=50\n",
      "[LightGBM] [Warning] feature_fraction is set=0.4216281284504694, colsample_bytree=1.0 will be ignored. Current value: feature_fraction=0.4216281284504694\n",
      "[LightGBM] [Warning] bagging_fraction is set=0.8246575087497517, subsample=1.0 will be ignored. Current value: bagging_fraction=0.8246575087497517\n",
      "[LightGBM] [Info] Number of positive: 742, number of negative: 818\n",
      "[LightGBM] [Warning] Auto-choosing col-wise multi-threading, the overhead of testing was 0.003632 seconds.\n",
      "You can set `force_col_wise=true` to remove the overhead.\n",
      "[LightGBM] [Info] Total Bins 45900\n",
      "[LightGBM] [Info] Number of data points in the train set: 1560, number of used features: 180\n",
      "[LightGBM] [Warning] feature_fraction is set=0.4216281284504694, colsample_bytree=1.0 will be ignored. Current value: feature_fraction=0.4216281284504694\n",
      "[LightGBM] [Warning] bagging_fraction is set=0.8246575087497517, subsample=1.0 will be ignored. Current value: bagging_fraction=0.8246575087497517\n",
      "[LightGBM] [Warning] early_stopping_round is set=50, early_stopping_rounds=50 will be ignored. Current value: early_stopping_round=50\n",
      "[LightGBM] [Info] [binary:BoostFromScore]: pavg=0.475641 -> initscore=-0.097513\n",
      "[LightGBM] [Info] Start training from score -0.097513\n",
      "[LightGBM] [Warning] No further splits with positive gain, best gain: -inf\n",
      "Training until validation scores don't improve for 50 rounds\n",
      "[LightGBM] [Warning] No further splits with positive gain, best gain: -inf\n",
      "[LightGBM] [Warning] No further splits with positive gain, best gain: -inf\n",
      "[LightGBM] [Warning] No further splits with positive gain, best gain: -inf\n",
      "[LightGBM] [Warning] No further splits with positive gain, best gain: -inf\n",
      "[LightGBM] [Warning] No further splits with positive gain, best gain: -inf\n",
      "[LightGBM] [Warning] No further splits with positive gain, best gain: -inf\n",
      "[LightGBM] [Warning] No further splits with positive gain, best gain: -inf\n",
      "[LightGBM] [Warning] No further splits with positive gain, best gain: -inf\n",
      "[LightGBM] [Warning] No further splits with positive gain, best gain: -inf\n",
      "[LightGBM] [Warning] No further splits with positive gain, best gain: -inf\n",
      "[LightGBM] [Warning] No further splits with positive gain, best gain: -inf\n",
      "[LightGBM] [Warning] No further splits with positive gain, best gain: -inf\n",
      "[LightGBM] [Warning] No further splits with positive gain, best gain: -inf\n",
      "[LightGBM] [Warning] No further splits with positive gain, best gain: -inf\n",
      "[LightGBM] [Warning] No further splits with positive gain, best gain: -inf\n",
      "[LightGBM] [Warning] No further splits with positive gain, best gain: -inf\n",
      "[LightGBM] [Warning] No further splits with positive gain, best gain: -inf\n",
      "[LightGBM] [Warning] No further splits with positive gain, best gain: -inf\n",
      "[LightGBM] [Warning] No further splits with positive gain, best gain: -inf\n",
      "[LightGBM] [Warning] No further splits with positive gain, best gain: -inf\n",
      "[LightGBM] [Warning] No further splits with positive gain, best gain: -inf\n",
      "[LightGBM] [Warning] No further splits with positive gain, best gain: -inf\n",
      "[LightGBM] [Warning] No further splits with positive gain, best gain: -inf\n",
      "[LightGBM] [Warning] No further splits with positive gain, best gain: -inf\n",
      "[LightGBM] [Warning] No further splits with positive gain, best gain: -inf\n",
      "[LightGBM] [Warning] No further splits with positive gain, best gain: -inf\n",
      "[LightGBM] [Warning] No further splits with positive gain, best gain: -inf\n",
      "[LightGBM] [Warning] No further splits with positive gain, best gain: -inf\n",
      "[LightGBM] [Warning] No further splits with positive gain, best gain: -inf\n",
      "[LightGBM] [Warning] No further splits with positive gain, best gain: -inf\n",
      "[LightGBM] [Warning] No further splits with positive gain, best gain: -inf\n",
      "[LightGBM] [Warning] No further splits with positive gain, best gain: -inf\n",
      "[LightGBM] [Warning] No further splits with positive gain, best gain: -inf\n",
      "[LightGBM] [Warning] No further splits with positive gain, best gain: -inf\n",
      "[LightGBM] [Warning] No further splits with positive gain, best gain: -inf\n",
      "[LightGBM] [Warning] No further splits with positive gain, best gain: -inf\n",
      "[LightGBM] [Warning] No further splits with positive gain, best gain: -inf\n",
      "[LightGBM] [Warning] No further splits with positive gain, best gain: -inf\n",
      "[LightGBM] [Warning] No further splits with positive gain, best gain: -inf\n",
      "[LightGBM] [Warning] No further splits with positive gain, best gain: -inf\n",
      "[LightGBM] [Warning] No further splits with positive gain, best gain: -inf\n",
      "[LightGBM] [Warning] No further splits with positive gain, best gain: -inf\n",
      "[LightGBM] [Warning] No further splits with positive gain, best gain: -inf\n",
      "[LightGBM] [Warning] No further splits with positive gain, best gain: -inf\n",
      "[LightGBM] [Warning] No further splits with positive gain, best gain: -inf\n",
      "[LightGBM] [Warning] No further splits with positive gain, best gain: -inf\n",
      "[LightGBM] [Warning] No further splits with positive gain, best gain: -inf\n",
      "[LightGBM] [Warning] No further splits with positive gain, best gain: -inf\n",
      "[LightGBM] [Warning] No further splits with positive gain, best gain: -inf\n",
      "[LightGBM] [Warning] No further splits with positive gain, best gain: -inf\n",
      "Early stopping, best iteration is:\n",
      "[1]\tvalid_0's binary_logloss: 0.669145\tvalid_0's eer: 0\n",
      "[LightGBM] [Warning] feature_fraction is set=0.4216281284504694, colsample_bytree=1.0 will be ignored. Current value: feature_fraction=0.4216281284504694\n",
      "[LightGBM] [Warning] bagging_fraction is set=0.8246575087497517, subsample=1.0 will be ignored. Current value: bagging_fraction=0.8246575087497517\n",
      "| \u001B[95m10       \u001B[0m | \u001B[95m-3.804   \u001B[0m | \u001B[95m0.8247   \u001B[0m | \u001B[95m0.4216   \u001B[0m | \u001B[95m24.43    \u001B[0m | \u001B[95m23.01    \u001B[0m | \u001B[95m0.0298   \u001B[0m | \u001B[95m82.19    \u001B[0m |\n",
      "=================================================================================================\n",
      "Optimal Parameters:\n",
      "{'bagging_fraction': 0.8246575087497517, 'feature_fraction': 0.4216281284504694, 'max_depth': 24.430978896198784, 'min_child_weight': 23.005002370494537, 'min_split_gain': 0.029797675986156076, 'num_leaves': 82.19430277148656}\n",
      "Optimal EER: 3.80%\n"
     ]
    }
   ],
   "source": [
    "path_to_files = \"../Data/embedding_files/\"\n",
    "embedding=\"lfcc_mfcc_fusion_deprecated\"\n",
    "bayesion_opt_lgbm(path_to_files,embedding,\"label\")"
   ],
   "metadata": {
    "collapsed": false,
    "ExecuteTime": {
     "end_time": "2024-03-31T09:56:54.866261600Z",
     "start_time": "2024-03-31T09:56:45.861522100Z"
    }
   },
   "id": "265ea22c64785bab"
  }
 ],
 "metadata": {
  "kernelspec": {
   "display_name": "Python 3",
   "language": "python",
   "name": "python3"
  },
  "language_info": {
   "codemirror_mode": {
    "name": "ipython",
    "version": 2
   },
   "file_extension": ".py",
   "mimetype": "text/x-python",
   "name": "python",
   "nbconvert_exporter": "python",
   "pygments_lexer": "ipython2",
   "version": "2.7.6"
  }
 },
 "nbformat": 4,
 "nbformat_minor": 5
}
