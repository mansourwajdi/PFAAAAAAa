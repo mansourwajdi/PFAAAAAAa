{
 "cells": [
  {
   "cell_type": "code",
   "execution_count": 1,
   "id": "initial_id",
   "metadata": {
    "collapsed": true,
    "ExecuteTime": {
     "end_time": "2024-04-07T10:08:32.774233400Z",
     "start_time": "2024-04-07T10:08:27.970666800Z"
    }
   },
   "outputs": [],
   "source": [
    "import warnings\n",
    "import time\n",
    "import pandas as pd\n",
    "warnings.filterwarnings('ignore')\n",
    "from embedding import (\n",
    "    extract_lfcc_embeddings,\n",
    "    extract_mfcc_embeddings,\n",
    "    extract_cqt_embeddings,\n",
    "    extract_cqcc_embeddings)"
   ]
  },
  {
   "cell_type": "code",
   "outputs": [
    {
     "name": "stdout",
     "output_type": "stream",
     "text": [
      "Started processing eval data\n",
      "Started processing cqt embeddings...\n"
     ]
    },
    {
     "name": "stderr",
     "output_type": "stream",
     "text": [
      "Preprocessing Audio: 100%|████████████████████| 134730/134730 [1:17:25<00:00, 29.00samples/s]\n"
     ]
    },
    {
     "name": "stdout",
     "output_type": "stream",
     "text": [
      "Finished processing cqt embeddings in 4675.88 seconds.\n",
      "Finished processing eval data\n"
     ]
    }
   ],
   "source": [
    "import time\n",
    "import pandas as pd  # Assurez-vous d'importer pandas\n",
    "\n",
    "def process_data(data_type, files, target):\n",
    "    print(f'Started processing {data_type} data')\n",
    "\n",
    "    extraction_methods = {\n",
    "        'mfcc': extract_mfcc_embeddings,\n",
    "        'lfcc': extract_lfcc_embeddings,\n",
    "        #'cqcc': extract_cqcc_embeddings,\n",
    "        'cqt': extract_cqt_embeddings,\n",
    "    }\n",
    "\n",
    "    for method_name, extraction_method in extraction_methods.items():\n",
    "        print(f'Started processing {method_name} embeddings...')\n",
    "        start_time = time.time()\n",
    "\n",
    "        # Extraire les embeddings sans calcul supplémentaire\n",
    "        embeddings = extraction_method(files, with_compute=False)\n",
    "        df_embeddings = pd.DataFrame(embeddings)\n",
    "        df_embeddings['target'] = target\n",
    "        embeddings_file_name = f'{data_type}_{method_name}_embeddings.csv'\n",
    "        df_embeddings.to_csv(f'../Data/all_features/{embeddings_file_name}', index=False)\n",
    "\n",
    "        # Extraire les statistiques des embeddings\n",
    "        embeddings_stats = extraction_method(files, with_compute=True, mean=True, variance=True, avg_diff=True)\n",
    "        df_embeddings_stats = pd.DataFrame(embeddings_stats)\n",
    "        df_embeddings_stats['target'] = target\n",
    "        embeddings_stats_file_name = f'{data_type}_{method_name}_embeddings_stats.csv'\n",
    "        df_embeddings_stats.to_csv(f'../Data/all_features/{embeddings_stats_file_name}', index=False)\n",
    "\n",
    "        end_time = time.time()\n",
    "        elapsed_time = end_time - start_time\n",
    "        print(f'Finished processing {method_name} embeddings in {elapsed_time:.2f} seconds.')\n",
    "\n",
    "    print(f'Finished processing {data_type} data')\n",
    "\n",
    "# Boucle sur les ensembles de données\n",
    "for data_type, data_path in [('train', '../Data/PA_CSV/train_data.csv'),\n",
    "                             ('dev', '../Data/PA_CSV/dev_data.csv'),\n",
    "                             ('eval', '../Data/PA_CSV/eval_data.csv')]:\n",
    "    data = pd.read_csv(data_path)\n",
    "    files = data['filepath'].values\n",
    "    target = data['target'].values\n",
    "\n",
    "    process_data(data_type, files, target)"
   ],
   "metadata": {
    "collapsed": false,
    "ExecuteTime": {
     "end_time": "2024-04-07T11:26:28.879667500Z",
     "start_time": "2024-04-07T10:08:32.775273400Z"
    }
   },
   "id": "6c457b9c47f37144",
   "execution_count": 2
  },
  {
   "cell_type": "code",
   "outputs": [],
   "source": [],
   "metadata": {
    "collapsed": false
   },
   "id": "d480b5cc56f19fd0"
  },
  {
   "cell_type": "code",
   "outputs": [],
   "source": [],
   "metadata": {
    "collapsed": false
   },
   "id": "c0587f62c96712c6"
  },
  {
   "cell_type": "code",
   "outputs": [],
   "source": [],
   "metadata": {
    "collapsed": false
   },
   "id": "fc9733a4834ce3fc"
  },
  {
   "cell_type": "code",
   "outputs": [],
   "source": [],
   "metadata": {
    "collapsed": false
   },
   "id": "730420aecdcceceb"
  },
  {
   "cell_type": "code",
   "outputs": [],
   "source": [],
   "metadata": {
    "collapsed": false
   },
   "id": "8cff0bdfbb15d5f7"
  },
  {
   "cell_type": "code",
   "outputs": [],
   "source": [
    "def process_data(data_type, files, target):\n",
    "    print(f'Started processing {data_type} data')\n",
    "\n",
    "    extraction_methods = {\n",
    "        'mfcc': extract_mfcc_embeddings,\n",
    "        'lfcc': extract_lfcc_embeddings,\n",
    "        # 'cqcc': extract_cqcc_embeddings,\n",
    "        'cqt': extract_cqt_embeddings,\n",
    "    }\n",
    "\n",
    "    for method_name, extraction_method in extraction_methods.items():\n",
    "        print(f'Started processing {method_name} embeddings...')\n",
    "        start_time = time.time()\n",
    "\n",
    "        embeddings = extraction_method(files, with_compute=False)\n",
    "        embeddings_stats = extraction_method(files, with_compute=True, mean=True, variance=True, avg_diff=True)\n",
    "\n",
    "        for embeddings_type, data in zip(['_stats'], [embeddings_stats , embeddings]):\n",
    "            df = pd.DataFrame(data)\n",
    "            df['target'] = target\n",
    "            file_name = f'{data_type}_{method_name}_feats{embeddings_type}.csv'\n",
    "            df.to_csv(f'../Data/all_features/{file_name}', index=False)\n",
    "\n",
    "        end_time = time.time()\n",
    "        elapsed_time = end_time - start_time\n",
    "        print(f'Finished processing {method_name} embeddings in {elapsed_time:.2f} seconds.')\n",
    "\n",
    "    print(f'Finished processing {data_type} data')"
   ],
   "metadata": {
    "collapsed": false,
    "ExecuteTime": {
     "end_time": "2024-04-06T20:14:32.663879800Z",
     "start_time": "2024-04-06T20:14:32.661490100Z"
    }
   },
   "id": "2a3567a03185ff9f",
   "execution_count": 2
  },
  {
   "cell_type": "code",
   "outputs": [
    {
     "name": "stdout",
     "output_type": "stream",
     "text": [
      "Started processing eval data\n",
      "Started processing mfcc embeddings...\n"
     ]
    },
    {
     "name": "stderr",
     "output_type": "stream",
     "text": [
      "Preprocessing Audio Files: 100%|████████████████████| 134730/134730 [36:47<00:00, 61.03samples/s]\n",
      "Preprocessing Audio Files: 100%|████████████████████| 134730/134730 [29:11<00:00, 76.93samples/s]\n"
     ]
    },
    {
     "name": "stdout",
     "output_type": "stream",
     "text": [
      "Finished processing mfcc embeddings in 3972.53 seconds.\n",
      "Started processing lfcc embeddings...\n"
     ]
    },
    {
     "name": "stderr",
     "output_type": "stream",
     "text": [
      "Preprocessing Audio:  10%|██                  | 13671/134730 [03:06<27:29, 73.38samples/s]"
     ]
    },
    {
     "ename": "KeyboardInterrupt",
     "evalue": "",
     "output_type": "error",
     "traceback": [
      "\u001B[1;31m---------------------------------------------------------------------------\u001B[0m",
      "\u001B[1;31mKeyboardInterrupt\u001B[0m                         Traceback (most recent call last)",
      "Cell \u001B[1;32mIn[3], line 8\u001B[0m\n\u001B[0;32m      5\u001B[0m files \u001B[38;5;241m=\u001B[39m data[\u001B[38;5;124m'\u001B[39m\u001B[38;5;124mfilepath\u001B[39m\u001B[38;5;124m'\u001B[39m]\u001B[38;5;241m.\u001B[39mvalues\n\u001B[0;32m      6\u001B[0m target \u001B[38;5;241m=\u001B[39m data[\u001B[38;5;124m'\u001B[39m\u001B[38;5;124mtarget\u001B[39m\u001B[38;5;124m'\u001B[39m]\u001B[38;5;241m.\u001B[39mvalues\n\u001B[1;32m----> 8\u001B[0m \u001B[43mprocess_data\u001B[49m\u001B[43m(\u001B[49m\u001B[43mdata_type\u001B[49m\u001B[43m,\u001B[49m\u001B[43m \u001B[49m\u001B[43mfiles\u001B[49m\u001B[43m,\u001B[49m\u001B[43m \u001B[49m\u001B[43mtarget\u001B[49m\u001B[43m)\u001B[49m\n",
      "Cell \u001B[1;32mIn[2], line 15\u001B[0m, in \u001B[0;36mprocess_data\u001B[1;34m(data_type, files, target)\u001B[0m\n\u001B[0;32m     12\u001B[0m \u001B[38;5;28mprint\u001B[39m(\u001B[38;5;124mf\u001B[39m\u001B[38;5;124m'\u001B[39m\u001B[38;5;124mStarted processing \u001B[39m\u001B[38;5;132;01m{\u001B[39;00mmethod_name\u001B[38;5;132;01m}\u001B[39;00m\u001B[38;5;124m embeddings...\u001B[39m\u001B[38;5;124m'\u001B[39m)\n\u001B[0;32m     13\u001B[0m start_time \u001B[38;5;241m=\u001B[39m time\u001B[38;5;241m.\u001B[39mtime()\n\u001B[1;32m---> 15\u001B[0m embeddings \u001B[38;5;241m=\u001B[39m \u001B[43mextraction_method\u001B[49m\u001B[43m(\u001B[49m\u001B[43mfiles\u001B[49m\u001B[43m,\u001B[49m\u001B[43m \u001B[49m\u001B[43mwith_compute\u001B[49m\u001B[38;5;241;43m=\u001B[39;49m\u001B[38;5;28;43;01mFalse\u001B[39;49;00m\u001B[43m)\u001B[49m\n\u001B[0;32m     16\u001B[0m embeddings_stats \u001B[38;5;241m=\u001B[39m extraction_method(files, with_compute\u001B[38;5;241m=\u001B[39m\u001B[38;5;28;01mTrue\u001B[39;00m, mean\u001B[38;5;241m=\u001B[39m\u001B[38;5;28;01mTrue\u001B[39;00m, variance\u001B[38;5;241m=\u001B[39m\u001B[38;5;28;01mTrue\u001B[39;00m, avg_diff\u001B[38;5;241m=\u001B[39m\u001B[38;5;28;01mTrue\u001B[39;00m)\n\u001B[0;32m     18\u001B[0m \u001B[38;5;28;01mfor\u001B[39;00m embeddings_type, data \u001B[38;5;129;01min\u001B[39;00m \u001B[38;5;28mzip\u001B[39m([\u001B[38;5;124m'\u001B[39m\u001B[38;5;124m_stats\u001B[39m\u001B[38;5;124m'\u001B[39m], [embeddings_stats , embeddings]):\n",
      "File \u001B[1;32mD:\\PFA\\embedding.py:486\u001B[0m, in \u001B[0;36mextract_lfcc_embeddings\u001B[1;34m(files, with_compute, max_len, mean, variance, avg_diff)\u001B[0m\n\u001B[0;32m    482\u001B[0m progress_bar \u001B[38;5;241m=\u001B[39m tqdm(total\u001B[38;5;241m=\u001B[39mtotal_samples, bar_format\u001B[38;5;241m=\u001B[39m\u001B[38;5;124m'\u001B[39m\u001B[38;5;132;01m{l_bar}\u001B[39;00m\u001B[38;5;132;01m{bar:20}\u001B[39;00m\u001B[38;5;132;01m{r_bar}\u001B[39;00m\u001B[38;5;124m'\u001B[39m, desc\u001B[38;5;241m=\u001B[39m\u001B[38;5;124mf\u001B[39m\u001B[38;5;124m\"\u001B[39m\u001B[38;5;124mPreprocessing Audio\u001B[39m\u001B[38;5;124m\"\u001B[39m,\n\u001B[0;32m    483\u001B[0m                     unit\u001B[38;5;241m=\u001B[39m\u001B[38;5;124m\"\u001B[39m\u001B[38;5;124msamples\u001B[39m\u001B[38;5;124m\"\u001B[39m)\n\u001B[0;32m    485\u001B[0m \u001B[38;5;28;01mfor\u001B[39;00m file \u001B[38;5;129;01min\u001B[39;00m files:\n\u001B[1;32m--> 486\u001B[0m     sig, rate \u001B[38;5;241m=\u001B[39m \u001B[43mclean_audio\u001B[49m\u001B[43m(\u001B[49m\u001B[43mfile\u001B[49m\u001B[43m)\u001B[49m\n\u001B[0;32m    487\u001B[0m     sig \u001B[38;5;241m=\u001B[39m pad_length(sig, rate, max_len\u001B[38;5;241m=\u001B[39mmax_len)\n\u001B[0;32m    488\u001B[0m     feat_lfcc \u001B[38;5;241m=\u001B[39m lfcc(sig\u001B[38;5;241m=\u001B[39msig, fs\u001B[38;5;241m=\u001B[39mrate)\n",
      "File \u001B[1;32mD:\\PFA\\embedding.py:163\u001B[0m, in \u001B[0;36mclean_audio\u001B[1;34m(file_path)\u001B[0m\n\u001B[0;32m    161\u001B[0m \u001B[38;5;28;01mdef\u001B[39;00m \u001B[38;5;21mclean_audio\u001B[39m(file_path):\n\u001B[0;32m    162\u001B[0m     signal, rate \u001B[38;5;241m=\u001B[39m sf\u001B[38;5;241m.\u001B[39mread(file_path)\n\u001B[1;32m--> 163\u001B[0m     mask \u001B[38;5;241m=\u001B[39m \u001B[43menvelope\u001B[49m\u001B[43m(\u001B[49m\u001B[43msignal\u001B[49m\u001B[43m,\u001B[49m\u001B[43m \u001B[49m\u001B[43mrate\u001B[49m\u001B[43m,\u001B[49m\u001B[43m \u001B[49m\u001B[38;5;241;43m0.0005\u001B[39;49m\u001B[43m)\u001B[49m\n\u001B[0;32m    164\u001B[0m     signal \u001B[38;5;241m=\u001B[39m signal[mask]\n\u001B[0;32m    165\u001B[0m     signal \u001B[38;5;241m=\u001B[39m signal[: rate]\n",
      "File \u001B[1;32mD:\\PFA\\embedding.py:152\u001B[0m, in \u001B[0;36menvelope\u001B[1;34m(y, rate, threshold)\u001B[0m\n\u001B[0;32m    150\u001B[0m mask \u001B[38;5;241m=\u001B[39m []\n\u001B[0;32m    151\u001B[0m y \u001B[38;5;241m=\u001B[39m pd\u001B[38;5;241m.\u001B[39mSeries(y)\u001B[38;5;241m.\u001B[39mapply(np\u001B[38;5;241m.\u001B[39mabs)\n\u001B[1;32m--> 152\u001B[0m y_mean \u001B[38;5;241m=\u001B[39m \u001B[43my\u001B[49m\u001B[38;5;241;43m.\u001B[39;49m\u001B[43mrolling\u001B[49m\u001B[43m(\u001B[49m\u001B[43mwindow\u001B[49m\u001B[38;5;241;43m=\u001B[39;49m\u001B[38;5;28;43mint\u001B[39;49m\u001B[43m(\u001B[49m\u001B[43mrate\u001B[49m\u001B[43m \u001B[49m\u001B[38;5;241;43m/\u001B[39;49m\u001B[43m \u001B[49m\u001B[38;5;241;43m10\u001B[39;49m\u001B[43m)\u001B[49m\u001B[43m,\u001B[49m\u001B[43m \u001B[49m\u001B[43mmin_periods\u001B[49m\u001B[38;5;241;43m=\u001B[39;49m\u001B[38;5;241;43m1\u001B[39;49m\u001B[43m,\u001B[49m\u001B[43m \u001B[49m\u001B[43mcenter\u001B[49m\u001B[38;5;241;43m=\u001B[39;49m\u001B[38;5;28;43;01mTrue\u001B[39;49;00m\u001B[43m)\u001B[49m\u001B[38;5;241;43m.\u001B[39;49m\u001B[43mmean\u001B[49m\u001B[43m(\u001B[49m\u001B[43m)\u001B[49m\n\u001B[0;32m    153\u001B[0m \u001B[38;5;28;01mfor\u001B[39;00m mean \u001B[38;5;129;01min\u001B[39;00m y_mean:\n\u001B[0;32m    154\u001B[0m     \u001B[38;5;28;01mif\u001B[39;00m mean \u001B[38;5;241m>\u001B[39m threshold:\n",
      "File \u001B[1;32m~\\AppData\\Local\\Programs\\Python\\Python312\\Lib\\site-packages\\pandas\\core\\window\\rolling.py:2253\u001B[0m, in \u001B[0;36mRolling.mean\u001B[1;34m(self, numeric_only, engine, engine_kwargs)\u001B[0m\n\u001B[0;32m   2210\u001B[0m \u001B[38;5;129m@doc\u001B[39m(\n\u001B[0;32m   2211\u001B[0m     template_header,\n\u001B[0;32m   2212\u001B[0m     create_section_header(\u001B[38;5;124m\"\u001B[39m\u001B[38;5;124mParameters\u001B[39m\u001B[38;5;124m\"\u001B[39m),\n\u001B[1;32m   (...)\u001B[0m\n\u001B[0;32m   2251\u001B[0m     engine_kwargs: \u001B[38;5;28mdict\u001B[39m[\u001B[38;5;28mstr\u001B[39m, \u001B[38;5;28mbool\u001B[39m] \u001B[38;5;241m|\u001B[39m \u001B[38;5;28;01mNone\u001B[39;00m \u001B[38;5;241m=\u001B[39m \u001B[38;5;28;01mNone\u001B[39;00m,\n\u001B[0;32m   2252\u001B[0m ):\n\u001B[1;32m-> 2253\u001B[0m     \u001B[38;5;28;01mreturn\u001B[39;00m \u001B[38;5;28;43msuper\u001B[39;49m\u001B[43m(\u001B[49m\u001B[43m)\u001B[49m\u001B[38;5;241;43m.\u001B[39;49m\u001B[43mmean\u001B[49m\u001B[43m(\u001B[49m\n\u001B[0;32m   2254\u001B[0m \u001B[43m        \u001B[49m\u001B[43mnumeric_only\u001B[49m\u001B[38;5;241;43m=\u001B[39;49m\u001B[43mnumeric_only\u001B[49m\u001B[43m,\u001B[49m\n\u001B[0;32m   2255\u001B[0m \u001B[43m        \u001B[49m\u001B[43mengine\u001B[49m\u001B[38;5;241;43m=\u001B[39;49m\u001B[43mengine\u001B[49m\u001B[43m,\u001B[49m\n\u001B[0;32m   2256\u001B[0m \u001B[43m        \u001B[49m\u001B[43mengine_kwargs\u001B[49m\u001B[38;5;241;43m=\u001B[39;49m\u001B[43mengine_kwargs\u001B[49m\u001B[43m,\u001B[49m\n\u001B[0;32m   2257\u001B[0m \u001B[43m    \u001B[49m\u001B[43m)\u001B[49m\n",
      "File \u001B[1;32m~\\AppData\\Local\\Programs\\Python\\Python312\\Lib\\site-packages\\pandas\\core\\window\\rolling.py:1620\u001B[0m, in \u001B[0;36mRollingAndExpandingMixin.mean\u001B[1;34m(self, numeric_only, engine, engine_kwargs)\u001B[0m\n\u001B[0;32m   1618\u001B[0m         \u001B[38;5;28;01mreturn\u001B[39;00m \u001B[38;5;28mself\u001B[39m\u001B[38;5;241m.\u001B[39m_numba_apply(sliding_mean, engine_kwargs)\n\u001B[0;32m   1619\u001B[0m window_func \u001B[38;5;241m=\u001B[39m window_aggregations\u001B[38;5;241m.\u001B[39mroll_mean\n\u001B[1;32m-> 1620\u001B[0m \u001B[38;5;28;01mreturn\u001B[39;00m \u001B[38;5;28;43mself\u001B[39;49m\u001B[38;5;241;43m.\u001B[39;49m\u001B[43m_apply\u001B[49m\u001B[43m(\u001B[49m\u001B[43mwindow_func\u001B[49m\u001B[43m,\u001B[49m\u001B[43m \u001B[49m\u001B[43mname\u001B[49m\u001B[38;5;241;43m=\u001B[39;49m\u001B[38;5;124;43m\"\u001B[39;49m\u001B[38;5;124;43mmean\u001B[39;49m\u001B[38;5;124;43m\"\u001B[39;49m\u001B[43m,\u001B[49m\u001B[43m \u001B[49m\u001B[43mnumeric_only\u001B[49m\u001B[38;5;241;43m=\u001B[39;49m\u001B[43mnumeric_only\u001B[49m\u001B[43m)\u001B[49m\n",
      "File \u001B[1;32m~\\AppData\\Local\\Programs\\Python\\Python312\\Lib\\site-packages\\pandas\\core\\window\\rolling.py:617\u001B[0m, in \u001B[0;36mBaseWindow._apply\u001B[1;34m(self, func, name, numeric_only, numba_args, **kwargs)\u001B[0m\n\u001B[0;32m    614\u001B[0m     \u001B[38;5;28;01mreturn\u001B[39;00m result\n\u001B[0;32m    616\u001B[0m \u001B[38;5;28;01mif\u001B[39;00m \u001B[38;5;28mself\u001B[39m\u001B[38;5;241m.\u001B[39mmethod \u001B[38;5;241m==\u001B[39m \u001B[38;5;124m\"\u001B[39m\u001B[38;5;124msingle\u001B[39m\u001B[38;5;124m\"\u001B[39m:\n\u001B[1;32m--> 617\u001B[0m     \u001B[38;5;28;01mreturn\u001B[39;00m \u001B[38;5;28;43mself\u001B[39;49m\u001B[38;5;241;43m.\u001B[39;49m\u001B[43m_apply_blockwise\u001B[49m\u001B[43m(\u001B[49m\u001B[43mhomogeneous_func\u001B[49m\u001B[43m,\u001B[49m\u001B[43m \u001B[49m\u001B[43mname\u001B[49m\u001B[43m,\u001B[49m\u001B[43m \u001B[49m\u001B[43mnumeric_only\u001B[49m\u001B[43m)\u001B[49m\n\u001B[0;32m    618\u001B[0m \u001B[38;5;28;01melse\u001B[39;00m:\n\u001B[0;32m    619\u001B[0m     \u001B[38;5;28;01mreturn\u001B[39;00m \u001B[38;5;28mself\u001B[39m\u001B[38;5;241m.\u001B[39m_apply_tablewise(homogeneous_func, name, numeric_only)\n",
      "File \u001B[1;32m~\\AppData\\Local\\Programs\\Python\\Python312\\Lib\\site-packages\\pandas\\core\\window\\rolling.py:470\u001B[0m, in \u001B[0;36mBaseWindow._apply_blockwise\u001B[1;34m(self, homogeneous_func, name, numeric_only)\u001B[0m\n\u001B[0;32m    468\u001B[0m \u001B[38;5;28mself\u001B[39m\u001B[38;5;241m.\u001B[39m_validate_numeric_only(name, numeric_only)\n\u001B[0;32m    469\u001B[0m \u001B[38;5;28;01mif\u001B[39;00m \u001B[38;5;28mself\u001B[39m\u001B[38;5;241m.\u001B[39m_selected_obj\u001B[38;5;241m.\u001B[39mndim \u001B[38;5;241m==\u001B[39m \u001B[38;5;241m1\u001B[39m:\n\u001B[1;32m--> 470\u001B[0m     \u001B[38;5;28;01mreturn\u001B[39;00m \u001B[38;5;28;43mself\u001B[39;49m\u001B[38;5;241;43m.\u001B[39;49m\u001B[43m_apply_series\u001B[49m\u001B[43m(\u001B[49m\u001B[43mhomogeneous_func\u001B[49m\u001B[43m,\u001B[49m\u001B[43m \u001B[49m\u001B[43mname\u001B[49m\u001B[43m)\u001B[49m\n\u001B[0;32m    472\u001B[0m obj \u001B[38;5;241m=\u001B[39m \u001B[38;5;28mself\u001B[39m\u001B[38;5;241m.\u001B[39m_create_data(\u001B[38;5;28mself\u001B[39m\u001B[38;5;241m.\u001B[39m_selected_obj, numeric_only)\n\u001B[0;32m    473\u001B[0m \u001B[38;5;28;01mif\u001B[39;00m name \u001B[38;5;241m==\u001B[39m \u001B[38;5;124m\"\u001B[39m\u001B[38;5;124mcount\u001B[39m\u001B[38;5;124m\"\u001B[39m:\n\u001B[0;32m    474\u001B[0m     \u001B[38;5;66;03m# GH 12541: Special case for count where we support date-like types\u001B[39;00m\n",
      "File \u001B[1;32m~\\AppData\\Local\\Programs\\Python\\Python312\\Lib\\site-packages\\pandas\\core\\window\\rolling.py:454\u001B[0m, in \u001B[0;36mBaseWindow._apply_series\u001B[1;34m(self, homogeneous_func, name)\u001B[0m\n\u001B[0;32m    451\u001B[0m \u001B[38;5;28;01mexcept\u001B[39;00m (\u001B[38;5;167;01mTypeError\u001B[39;00m, \u001B[38;5;167;01mNotImplementedError\u001B[39;00m) \u001B[38;5;28;01mas\u001B[39;00m err:\n\u001B[0;32m    452\u001B[0m     \u001B[38;5;28;01mraise\u001B[39;00m DataError(\u001B[38;5;124m\"\u001B[39m\u001B[38;5;124mNo numeric types to aggregate\u001B[39m\u001B[38;5;124m\"\u001B[39m) \u001B[38;5;28;01mfrom\u001B[39;00m \u001B[38;5;21;01merr\u001B[39;00m\n\u001B[1;32m--> 454\u001B[0m result \u001B[38;5;241m=\u001B[39m \u001B[43mhomogeneous_func\u001B[49m\u001B[43m(\u001B[49m\u001B[43mvalues\u001B[49m\u001B[43m)\u001B[49m\n\u001B[0;32m    455\u001B[0m index \u001B[38;5;241m=\u001B[39m \u001B[38;5;28mself\u001B[39m\u001B[38;5;241m.\u001B[39m_slice_axis_for_step(obj\u001B[38;5;241m.\u001B[39mindex, result)\n\u001B[0;32m    456\u001B[0m \u001B[38;5;28;01mreturn\u001B[39;00m obj\u001B[38;5;241m.\u001B[39m_constructor(result, index\u001B[38;5;241m=\u001B[39mindex, name\u001B[38;5;241m=\u001B[39mobj\u001B[38;5;241m.\u001B[39mname)\n",
      "File \u001B[1;32m~\\AppData\\Local\\Programs\\Python\\Python312\\Lib\\site-packages\\pandas\\core\\window\\rolling.py:612\u001B[0m, in \u001B[0;36mBaseWindow._apply.<locals>.homogeneous_func\u001B[1;34m(values)\u001B[0m\n\u001B[0;32m    609\u001B[0m     \u001B[38;5;28;01mreturn\u001B[39;00m func(x, start, end, min_periods, \u001B[38;5;241m*\u001B[39mnumba_args)\n\u001B[0;32m    611\u001B[0m \u001B[38;5;28;01mwith\u001B[39;00m np\u001B[38;5;241m.\u001B[39merrstate(\u001B[38;5;28mall\u001B[39m\u001B[38;5;241m=\u001B[39m\u001B[38;5;124m\"\u001B[39m\u001B[38;5;124mignore\u001B[39m\u001B[38;5;124m\"\u001B[39m):\n\u001B[1;32m--> 612\u001B[0m     result \u001B[38;5;241m=\u001B[39m \u001B[43mcalc\u001B[49m\u001B[43m(\u001B[49m\u001B[43mvalues\u001B[49m\u001B[43m)\u001B[49m\n\u001B[0;32m    614\u001B[0m \u001B[38;5;28;01mreturn\u001B[39;00m result\n",
      "File \u001B[1;32m~\\AppData\\Local\\Programs\\Python\\Python312\\Lib\\site-packages\\pandas\\core\\window\\rolling.py:609\u001B[0m, in \u001B[0;36mBaseWindow._apply.<locals>.homogeneous_func.<locals>.calc\u001B[1;34m(x)\u001B[0m\n\u001B[0;32m    600\u001B[0m start, end \u001B[38;5;241m=\u001B[39m window_indexer\u001B[38;5;241m.\u001B[39mget_window_bounds(\n\u001B[0;32m    601\u001B[0m     num_values\u001B[38;5;241m=\u001B[39m\u001B[38;5;28mlen\u001B[39m(x),\n\u001B[0;32m    602\u001B[0m     min_periods\u001B[38;5;241m=\u001B[39mmin_periods,\n\u001B[1;32m   (...)\u001B[0m\n\u001B[0;32m    605\u001B[0m     step\u001B[38;5;241m=\u001B[39m\u001B[38;5;28mself\u001B[39m\u001B[38;5;241m.\u001B[39mstep,\n\u001B[0;32m    606\u001B[0m )\n\u001B[0;32m    607\u001B[0m \u001B[38;5;28mself\u001B[39m\u001B[38;5;241m.\u001B[39m_check_window_bounds(start, end, \u001B[38;5;28mlen\u001B[39m(x))\n\u001B[1;32m--> 609\u001B[0m \u001B[38;5;28;01mreturn\u001B[39;00m \u001B[43mfunc\u001B[49m\u001B[43m(\u001B[49m\u001B[43mx\u001B[49m\u001B[43m,\u001B[49m\u001B[43m \u001B[49m\u001B[43mstart\u001B[49m\u001B[43m,\u001B[49m\u001B[43m \u001B[49m\u001B[43mend\u001B[49m\u001B[43m,\u001B[49m\u001B[43m \u001B[49m\u001B[43mmin_periods\u001B[49m\u001B[43m,\u001B[49m\u001B[43m \u001B[49m\u001B[38;5;241;43m*\u001B[39;49m\u001B[43mnumba_args\u001B[49m\u001B[43m)\u001B[49m\n",
      "\u001B[1;31mKeyboardInterrupt\u001B[0m: "
     ]
    }
   ],
   "source": [
    "for data_type, data_path in [#('train', '../Data/PA_CSV/train_data.csv'),\n",
    "                             #('dev', '../Data/PA_CSV/dev_data.csv'),\n",
    "                             ('eval', '../Data/PA_CSV/eval_data.csv')]:\n",
    "    data = pd.read_csv(data_path)\n",
    "    files = data['filepath'].values\n",
    "    target = data['target'].values\n",
    "\n",
    "    process_data(data_type, files, target)"
   ],
   "metadata": {
    "collapsed": false,
    "ExecuteTime": {
     "end_time": "2024-04-06T21:23:54.153182200Z",
     "start_time": "2024-04-06T20:14:34.621796300Z"
    }
   },
   "id": "56360c08eb551d0d",
   "execution_count": 3
  },
  {
   "cell_type": "code",
   "outputs": [],
   "source": [],
   "metadata": {
    "collapsed": false
   },
   "id": "5d1b47ef03a7d6d7"
  }
 ],
 "metadata": {
  "kernelspec": {
   "display_name": "Python 3",
   "language": "python",
   "name": "python3"
  },
  "language_info": {
   "codemirror_mode": {
    "name": "ipython",
    "version": 2
   },
   "file_extension": ".py",
   "mimetype": "text/x-python",
   "name": "python",
   "nbconvert_exporter": "python",
   "pygments_lexer": "ipython2",
   "version": "2.7.6"
  }
 },
 "nbformat": 4,
 "nbformat_minor": 5
}
